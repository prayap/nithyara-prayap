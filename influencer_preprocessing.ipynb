{
  "nbformat": 4,
  "nbformat_minor": 0,
  "metadata": {
    "colab": {
      "name": "influencer_preprocessing.ipynb",
      "provenance": [],
      "collapsed_sections": []
    },
    "kernelspec": {
      "name": "python3",
      "display_name": "Python 3"
    },
    "language_info": {
      "name": "python"
    }
  },
  "cells": [
    {
      "cell_type": "markdown",
      "source": [
        "# Installing Packages"
      ],
      "metadata": {
        "id": "S_SKcJUlXqis"
      }
    },
    {
      "cell_type": "code",
      "execution_count": 1,
      "metadata": {
        "colab": {
          "base_uri": "https://localhost:8080/"
        },
        "id": "a3MJ7oPdE8iA",
        "outputId": "ec55d817-9104-4786-ef78-b7d1c57e7434"
      },
      "outputs": [
        {
          "output_type": "stream",
          "name": "stdout",
          "text": [
            "Mounted at /content/drive\n",
            "Collecting pytrends\n",
            "  Downloading pytrends-4.8.0.tar.gz (19 kB)\n",
            "Requirement already satisfied: requests>=2.0 in /usr/local/lib/python3.7/dist-packages (from pytrends) (2.23.0)\n",
            "Requirement already satisfied: pandas>=0.25 in /usr/local/lib/python3.7/dist-packages (from pytrends) (1.3.5)\n",
            "Requirement already satisfied: lxml in /usr/local/lib/python3.7/dist-packages (from pytrends) (4.2.6)\n",
            "Requirement already satisfied: numpy>=1.17.3 in /usr/local/lib/python3.7/dist-packages (from pandas>=0.25->pytrends) (1.21.6)\n",
            "Requirement already satisfied: pytz>=2017.3 in /usr/local/lib/python3.7/dist-packages (from pandas>=0.25->pytrends) (2022.1)\n",
            "Requirement already satisfied: python-dateutil>=2.7.3 in /usr/local/lib/python3.7/dist-packages (from pandas>=0.25->pytrends) (2.8.2)\n",
            "Requirement already satisfied: six>=1.5 in /usr/local/lib/python3.7/dist-packages (from python-dateutil>=2.7.3->pandas>=0.25->pytrends) (1.15.0)\n",
            "Requirement already satisfied: idna<3,>=2.5 in /usr/local/lib/python3.7/dist-packages (from requests>=2.0->pytrends) (2.10)\n",
            "Requirement already satisfied: urllib3!=1.25.0,!=1.25.1,<1.26,>=1.21.1 in /usr/local/lib/python3.7/dist-packages (from requests>=2.0->pytrends) (1.24.3)\n",
            "Requirement already satisfied: chardet<4,>=3.0.2 in /usr/local/lib/python3.7/dist-packages (from requests>=2.0->pytrends) (3.0.4)\n",
            "Requirement already satisfied: certifi>=2017.4.17 in /usr/local/lib/python3.7/dist-packages (from requests>=2.0->pytrends) (2021.10.8)\n",
            "Building wheels for collected packages: pytrends\n",
            "  Building wheel for pytrends (setup.py) ... \u001b[?25l\u001b[?25hdone\n",
            "  Created wheel for pytrends: filename=pytrends-4.8.0-py3-none-any.whl size=16126 sha256=8d550213a8bbb97f391306367468984c5d196c847dc7f047f5f8ac05625d4974\n",
            "  Stored in directory: /root/.cache/pip/wheels/07/6f/5c/8174f98dec1bfbc7d5da4092854afcbcff4b26c3d9b66b5183\n",
            "Successfully built pytrends\n",
            "Installing collected packages: pytrends\n",
            "Successfully installed pytrends-4.8.0\n"
          ]
        }
      ],
      "source": [
        "from google.colab import drive\n",
        "drive.mount('/content/drive')\n",
        "import pandas as pd\n",
        "import numpy as np\n",
        "from zipfile import ZipFile\n",
        "!pip install pytrends\n",
        "from pytrends.request import TrendReq\n",
        "from pytrends import dailydata\n",
        "import json\n",
        "# -*- coding: utf-8 -*-"
      ]
    },
    {
      "cell_type": "code",
      "source": [
        "copied_path = \"drive/Shareddrives/capstone_prayap_nithyara/Influencer Brand Dataset/\"\n",
        "\n"
      ],
      "metadata": {
        "id": "gcHssItkFD4K"
      },
      "execution_count": 3,
      "outputs": []
    },
    {
      "cell_type": "markdown",
      "source": [
        "# Importing Influencer Dataset"
      ],
      "metadata": {
        "id": "Kbrwwt_xXykn"
      }
    },
    {
      "cell_type": "markdown",
      "source": [
        "## Brand Accounts "
      ],
      "metadata": {
        "id": "aKAhIoK-X4DN"
      }
    },
    {
      "cell_type": "markdown",
      "source": [
        "### Create Brands DataFrame"
      ],
      "metadata": {
        "id": "oanLeNWY97xf"
      }
    },
    {
      "cell_type": "code",
      "source": [
        "with ZipFile(copied_path+\"profiles_brands.zip\", 'r') as zipObject:\n",
        "\n",
        "  listOfFileNames = zipObject.namelist()\n",
        "  master_df_brands = pd.DataFrame(columns=['Account ID', 'Name', 'Followers', 'Followees', 'Posts', 'URL', 'T/F', 'Category', 'Bio', 'E-mail', 'Phone', 'Profile pic'])\n",
        "  print(master_df_brands)\n",
        "\n",
        "  for fileName in listOfFileNames[1:]:\n",
        "    f = zipObject.open(fileName)\n",
        "    contents = str(f.read())[2:]\n",
        "    content_list = contents.split(\"\\\\t\")\n",
        "\n",
        "    brand = fileName.split(\"/\")\n",
        "    brand = brand[1]\n",
        "    columns = [brand] + content_list\n",
        "    master_df_brands.loc[len(master_df_brands), :] = columns\n",
        "    master_df_brands.append(columns)\n",
        "\n",
        "master_df_brands\n"
      ],
      "metadata": {
        "colab": {
          "base_uri": "https://localhost:8080/",
          "height": 1000
        },
        "id": "ByMob_74e3Jd",
        "outputId": "00103936-2eea-463d-a47a-9070b49b7efb"
      },
      "execution_count": 4,
      "outputs": [
        {
          "output_type": "stream",
          "name": "stdout",
          "text": [
            "Empty DataFrame\n",
            "Columns: [Account ID, Name, Followers, Followees, Posts, URL, T/F, Category, Bio, E-mail, Phone, Profile pic]\n",
            "Index: []\n"
          ]
        },
        {
          "output_type": "execute_result",
          "data": {
            "text/plain": [
              "                     Account ID                                     Name  \\\n",
              "0      delightedbydesserthummus  The Original Dessert Hummus\\xe2\\x84\\xa2   \n",
              "1                 liketoknow.it                            LIKEtoKNOW.it   \n",
              "2                 jofamafashion                         JOFAMA - Fashion   \n",
              "3                opullenceparis                          OPULLENCE PARIS   \n",
              "4                  hellobody_it                         HelloBody Italia   \n",
              "...                         ...                                      ...   \n",
              "25277        hahnemuehle_global                Hahnem\\xc3\\xbchle FineArt   \n",
              "25278           boardiesapparel         Boardies\\xc2\\xae\\xf0\\x9f\\x8c\\xb4   \n",
              "25279               seersecrets                             Seer Secrets   \n",
              "25280                  quornusa                                Quorn USA   \n",
              "25281            giannichiarini                          Gianni Chiarini   \n",
              "\n",
              "      Followers Followees  Posts                                URL   T/F  \\\n",
              "0         47982      2612   1390  http://www.delightedbyhummus.com/  True   \n",
              "1       3057208      1506  18984          http://hyperurl.co/agzn0m  True   \n",
              "2         16942       416   1221      http://www.jofamafashion.com/  True   \n",
              "3         44553      1714    502          http://www.opullence.com/  True   \n",
              "4        164530       173    872      http://www.hellobody.it/shop/  True   \n",
              "...         ...       ...    ...                                ...   ...   \n",
              "25277     18542      3803    500       http://blog.hahnemuehle.com/  True   \n",
              "25278      8641      2756    966    http://www.boardiesapparel.com/  True   \n",
              "25279      3715       409    312            https://amzn.to/2QFyxT7  True   \n",
              "25280     10223       530    536  http://www.quorn.us/store-locator  True   \n",
              "25281     78457         2   1062      http://giannichiarini.com/it/  True   \n",
              "\n",
              "                                          Category  \\\n",
              "0                            Food & Personal Goods   \n",
              "1      Personal Goods & General Merchandise Stores   \n",
              "2      Personal Goods & General Merchandise Stores   \n",
              "3      Personal Goods & General Merchandise Stores   \n",
              "4      Personal Goods & General Merchandise Stores   \n",
              "...                                            ...   \n",
              "25277                  Business & Utility Services   \n",
              "25278  Personal Goods & General Merchandise Stores   \n",
              "25279                           Lifestyle Services   \n",
              "25280  Personal Goods & General Merchandise Stores   \n",
              "25281  Personal Goods & General Merchandise Stores   \n",
              "\n",
              "                                                     Bio  \\\n",
              "0      A healthy treat for your sweet-tooth! Made wit...   \n",
              "1      Download the LIKEtoKNOW.it app now to Shop You...   \n",
              "2      Leather jackets with attitude since 1926. Free...   \n",
              "3      Fabriqu\\xc3\\xa9e \\xc3\\xa0 Paris avec amour \\xe...   \n",
              "4      \\xf0\\x9f\\x8c\\xbf Per una cura della pelle e de...   \n",
              "...                                                  ...   \n",
              "25277  German manufacturer of genuine artist paper si...   \n",
              "25278  Just Add Water \\xf0\\x9f\\x92\\xa6               ...   \n",
              "25279  Seers = People who can see beyond time (vision...   \n",
              "25280  Official page of Quorn USA -- Quorn is a meatl...   \n",
              "25281                                   Made in Florence   \n",
              "\n",
              "                               E-mail            Phone  \\\n",
              "0       contact@delightedbyhummus.com             NULL   \n",
              "1                  info@liketoknow.it             NULL   \n",
              "2                      info@jofama.se             NULL   \n",
              "3            opullenceparis@gmail.com             NULL   \n",
              "4                   help@hellobody.it             NULL   \n",
              "...                               ...              ...   \n",
              "25277              pr@hahnemuehle.com  +49495561791237   \n",
              "25278     collabs@boardiesapparel.com             NULL   \n",
              "25279            care@seersecrets.com    +918800598482   \n",
              "25280  emily.steingart@quornfoods.com     +13129880830   \n",
              "25281        info@contemporarybags.it    +390552654306   \n",
              "\n",
              "                                             Profile pic  \n",
              "0      https://scontent-lax3-1.cdninstagram.com/vp/06...  \n",
              "1      https://scontent-lax3-1.cdninstagram.com/vp/c2...  \n",
              "2      https://scontent-lax3-1.cdninstagram.com/vp/84...  \n",
              "3      https://scontent-lax3-1.cdninstagram.com/vp/25...  \n",
              "4      https://scontent-lax3-1.cdninstagram.com/vp/26...  \n",
              "...                                                  ...  \n",
              "25277  https://scontent-lax3-1.cdninstagram.com/vp/ae...  \n",
              "25278  https://scontent-lax3-1.cdninstagram.com/vp/b0...  \n",
              "25279  https://scontent-lax3-1.cdninstagram.com/vp/49...  \n",
              "25280  https://scontent-lax3-1.cdninstagram.com/vp/7a...  \n",
              "25281  https://scontent-lax3-1.cdninstagram.com/vp/a9...  \n",
              "\n",
              "[25282 rows x 12 columns]"
            ],
            "text/html": [
              "\n",
              "  <div id=\"df-cf6f318e-398d-4f0b-8540-c4b43baad4cd\">\n",
              "    <div class=\"colab-df-container\">\n",
              "      <div>\n",
              "<style scoped>\n",
              "    .dataframe tbody tr th:only-of-type {\n",
              "        vertical-align: middle;\n",
              "    }\n",
              "\n",
              "    .dataframe tbody tr th {\n",
              "        vertical-align: top;\n",
              "    }\n",
              "\n",
              "    .dataframe thead th {\n",
              "        text-align: right;\n",
              "    }\n",
              "</style>\n",
              "<table border=\"1\" class=\"dataframe\">\n",
              "  <thead>\n",
              "    <tr style=\"text-align: right;\">\n",
              "      <th></th>\n",
              "      <th>Account ID</th>\n",
              "      <th>Name</th>\n",
              "      <th>Followers</th>\n",
              "      <th>Followees</th>\n",
              "      <th>Posts</th>\n",
              "      <th>URL</th>\n",
              "      <th>T/F</th>\n",
              "      <th>Category</th>\n",
              "      <th>Bio</th>\n",
              "      <th>E-mail</th>\n",
              "      <th>Phone</th>\n",
              "      <th>Profile pic</th>\n",
              "    </tr>\n",
              "  </thead>\n",
              "  <tbody>\n",
              "    <tr>\n",
              "      <th>0</th>\n",
              "      <td>delightedbydesserthummus</td>\n",
              "      <td>The Original Dessert Hummus\\xe2\\x84\\xa2</td>\n",
              "      <td>47982</td>\n",
              "      <td>2612</td>\n",
              "      <td>1390</td>\n",
              "      <td>http://www.delightedbyhummus.com/</td>\n",
              "      <td>True</td>\n",
              "      <td>Food &amp; Personal Goods</td>\n",
              "      <td>A healthy treat for your sweet-tooth! Made wit...</td>\n",
              "      <td>contact@delightedbyhummus.com</td>\n",
              "      <td>NULL</td>\n",
              "      <td>https://scontent-lax3-1.cdninstagram.com/vp/06...</td>\n",
              "    </tr>\n",
              "    <tr>\n",
              "      <th>1</th>\n",
              "      <td>liketoknow.it</td>\n",
              "      <td>LIKEtoKNOW.it</td>\n",
              "      <td>3057208</td>\n",
              "      <td>1506</td>\n",
              "      <td>18984</td>\n",
              "      <td>http://hyperurl.co/agzn0m</td>\n",
              "      <td>True</td>\n",
              "      <td>Personal Goods &amp; General Merchandise Stores</td>\n",
              "      <td>Download the LIKEtoKNOW.it app now to Shop You...</td>\n",
              "      <td>info@liketoknow.it</td>\n",
              "      <td>NULL</td>\n",
              "      <td>https://scontent-lax3-1.cdninstagram.com/vp/c2...</td>\n",
              "    </tr>\n",
              "    <tr>\n",
              "      <th>2</th>\n",
              "      <td>jofamafashion</td>\n",
              "      <td>JOFAMA - Fashion</td>\n",
              "      <td>16942</td>\n",
              "      <td>416</td>\n",
              "      <td>1221</td>\n",
              "      <td>http://www.jofamafashion.com/</td>\n",
              "      <td>True</td>\n",
              "      <td>Personal Goods &amp; General Merchandise Stores</td>\n",
              "      <td>Leather jackets with attitude since 1926. Free...</td>\n",
              "      <td>info@jofama.se</td>\n",
              "      <td>NULL</td>\n",
              "      <td>https://scontent-lax3-1.cdninstagram.com/vp/84...</td>\n",
              "    </tr>\n",
              "    <tr>\n",
              "      <th>3</th>\n",
              "      <td>opullenceparis</td>\n",
              "      <td>OPULLENCE PARIS</td>\n",
              "      <td>44553</td>\n",
              "      <td>1714</td>\n",
              "      <td>502</td>\n",
              "      <td>http://www.opullence.com/</td>\n",
              "      <td>True</td>\n",
              "      <td>Personal Goods &amp; General Merchandise Stores</td>\n",
              "      <td>Fabriqu\\xc3\\xa9e \\xc3\\xa0 Paris avec amour \\xe...</td>\n",
              "      <td>opullenceparis@gmail.com</td>\n",
              "      <td>NULL</td>\n",
              "      <td>https://scontent-lax3-1.cdninstagram.com/vp/25...</td>\n",
              "    </tr>\n",
              "    <tr>\n",
              "      <th>4</th>\n",
              "      <td>hellobody_it</td>\n",
              "      <td>HelloBody Italia</td>\n",
              "      <td>164530</td>\n",
              "      <td>173</td>\n",
              "      <td>872</td>\n",
              "      <td>http://www.hellobody.it/shop/</td>\n",
              "      <td>True</td>\n",
              "      <td>Personal Goods &amp; General Merchandise Stores</td>\n",
              "      <td>\\xf0\\x9f\\x8c\\xbf Per una cura della pelle e de...</td>\n",
              "      <td>help@hellobody.it</td>\n",
              "      <td>NULL</td>\n",
              "      <td>https://scontent-lax3-1.cdninstagram.com/vp/26...</td>\n",
              "    </tr>\n",
              "    <tr>\n",
              "      <th>...</th>\n",
              "      <td>...</td>\n",
              "      <td>...</td>\n",
              "      <td>...</td>\n",
              "      <td>...</td>\n",
              "      <td>...</td>\n",
              "      <td>...</td>\n",
              "      <td>...</td>\n",
              "      <td>...</td>\n",
              "      <td>...</td>\n",
              "      <td>...</td>\n",
              "      <td>...</td>\n",
              "      <td>...</td>\n",
              "    </tr>\n",
              "    <tr>\n",
              "      <th>25277</th>\n",
              "      <td>hahnemuehle_global</td>\n",
              "      <td>Hahnem\\xc3\\xbchle FineArt</td>\n",
              "      <td>18542</td>\n",
              "      <td>3803</td>\n",
              "      <td>500</td>\n",
              "      <td>http://blog.hahnemuehle.com/</td>\n",
              "      <td>True</td>\n",
              "      <td>Business &amp; Utility Services</td>\n",
              "      <td>German manufacturer of genuine artist paper si...</td>\n",
              "      <td>pr@hahnemuehle.com</td>\n",
              "      <td>+49495561791237</td>\n",
              "      <td>https://scontent-lax3-1.cdninstagram.com/vp/ae...</td>\n",
              "    </tr>\n",
              "    <tr>\n",
              "      <th>25278</th>\n",
              "      <td>boardiesapparel</td>\n",
              "      <td>Boardies\\xc2\\xae\\xf0\\x9f\\x8c\\xb4</td>\n",
              "      <td>8641</td>\n",
              "      <td>2756</td>\n",
              "      <td>966</td>\n",
              "      <td>http://www.boardiesapparel.com/</td>\n",
              "      <td>True</td>\n",
              "      <td>Personal Goods &amp; General Merchandise Stores</td>\n",
              "      <td>Just Add Water \\xf0\\x9f\\x92\\xa6               ...</td>\n",
              "      <td>collabs@boardiesapparel.com</td>\n",
              "      <td>NULL</td>\n",
              "      <td>https://scontent-lax3-1.cdninstagram.com/vp/b0...</td>\n",
              "    </tr>\n",
              "    <tr>\n",
              "      <th>25279</th>\n",
              "      <td>seersecrets</td>\n",
              "      <td>Seer Secrets</td>\n",
              "      <td>3715</td>\n",
              "      <td>409</td>\n",
              "      <td>312</td>\n",
              "      <td>https://amzn.to/2QFyxT7</td>\n",
              "      <td>True</td>\n",
              "      <td>Lifestyle Services</td>\n",
              "      <td>Seers = People who can see beyond time (vision...</td>\n",
              "      <td>care@seersecrets.com</td>\n",
              "      <td>+918800598482</td>\n",
              "      <td>https://scontent-lax3-1.cdninstagram.com/vp/49...</td>\n",
              "    </tr>\n",
              "    <tr>\n",
              "      <th>25280</th>\n",
              "      <td>quornusa</td>\n",
              "      <td>Quorn USA</td>\n",
              "      <td>10223</td>\n",
              "      <td>530</td>\n",
              "      <td>536</td>\n",
              "      <td>http://www.quorn.us/store-locator</td>\n",
              "      <td>True</td>\n",
              "      <td>Personal Goods &amp; General Merchandise Stores</td>\n",
              "      <td>Official page of Quorn USA -- Quorn is a meatl...</td>\n",
              "      <td>emily.steingart@quornfoods.com</td>\n",
              "      <td>+13129880830</td>\n",
              "      <td>https://scontent-lax3-1.cdninstagram.com/vp/7a...</td>\n",
              "    </tr>\n",
              "    <tr>\n",
              "      <th>25281</th>\n",
              "      <td>giannichiarini</td>\n",
              "      <td>Gianni Chiarini</td>\n",
              "      <td>78457</td>\n",
              "      <td>2</td>\n",
              "      <td>1062</td>\n",
              "      <td>http://giannichiarini.com/it/</td>\n",
              "      <td>True</td>\n",
              "      <td>Personal Goods &amp; General Merchandise Stores</td>\n",
              "      <td>Made in Florence</td>\n",
              "      <td>info@contemporarybags.it</td>\n",
              "      <td>+390552654306</td>\n",
              "      <td>https://scontent-lax3-1.cdninstagram.com/vp/a9...</td>\n",
              "    </tr>\n",
              "  </tbody>\n",
              "</table>\n",
              "<p>25282 rows × 12 columns</p>\n",
              "</div>\n",
              "      <button class=\"colab-df-convert\" onclick=\"convertToInteractive('df-cf6f318e-398d-4f0b-8540-c4b43baad4cd')\"\n",
              "              title=\"Convert this dataframe to an interactive table.\"\n",
              "              style=\"display:none;\">\n",
              "        \n",
              "  <svg xmlns=\"http://www.w3.org/2000/svg\" height=\"24px\"viewBox=\"0 0 24 24\"\n",
              "       width=\"24px\">\n",
              "    <path d=\"M0 0h24v24H0V0z\" fill=\"none\"/>\n",
              "    <path d=\"M18.56 5.44l.94 2.06.94-2.06 2.06-.94-2.06-.94-.94-2.06-.94 2.06-2.06.94zm-11 1L8.5 8.5l.94-2.06 2.06-.94-2.06-.94L8.5 2.5l-.94 2.06-2.06.94zm10 10l.94 2.06.94-2.06 2.06-.94-2.06-.94-.94-2.06-.94 2.06-2.06.94z\"/><path d=\"M17.41 7.96l-1.37-1.37c-.4-.4-.92-.59-1.43-.59-.52 0-1.04.2-1.43.59L10.3 9.45l-7.72 7.72c-.78.78-.78 2.05 0 2.83L4 21.41c.39.39.9.59 1.41.59.51 0 1.02-.2 1.41-.59l7.78-7.78 2.81-2.81c.8-.78.8-2.07 0-2.86zM5.41 20L4 18.59l7.72-7.72 1.47 1.35L5.41 20z\"/>\n",
              "  </svg>\n",
              "      </button>\n",
              "      \n",
              "  <style>\n",
              "    .colab-df-container {\n",
              "      display:flex;\n",
              "      flex-wrap:wrap;\n",
              "      gap: 12px;\n",
              "    }\n",
              "\n",
              "    .colab-df-convert {\n",
              "      background-color: #E8F0FE;\n",
              "      border: none;\n",
              "      border-radius: 50%;\n",
              "      cursor: pointer;\n",
              "      display: none;\n",
              "      fill: #1967D2;\n",
              "      height: 32px;\n",
              "      padding: 0 0 0 0;\n",
              "      width: 32px;\n",
              "    }\n",
              "\n",
              "    .colab-df-convert:hover {\n",
              "      background-color: #E2EBFA;\n",
              "      box-shadow: 0px 1px 2px rgba(60, 64, 67, 0.3), 0px 1px 3px 1px rgba(60, 64, 67, 0.15);\n",
              "      fill: #174EA6;\n",
              "    }\n",
              "\n",
              "    [theme=dark] .colab-df-convert {\n",
              "      background-color: #3B4455;\n",
              "      fill: #D2E3FC;\n",
              "    }\n",
              "\n",
              "    [theme=dark] .colab-df-convert:hover {\n",
              "      background-color: #434B5C;\n",
              "      box-shadow: 0px 1px 3px 1px rgba(0, 0, 0, 0.15);\n",
              "      filter: drop-shadow(0px 1px 2px rgba(0, 0, 0, 0.3));\n",
              "      fill: #FFFFFF;\n",
              "    }\n",
              "  </style>\n",
              "\n",
              "      <script>\n",
              "        const buttonEl =\n",
              "          document.querySelector('#df-cf6f318e-398d-4f0b-8540-c4b43baad4cd button.colab-df-convert');\n",
              "        buttonEl.style.display =\n",
              "          google.colab.kernel.accessAllowed ? 'block' : 'none';\n",
              "\n",
              "        async function convertToInteractive(key) {\n",
              "          const element = document.querySelector('#df-cf6f318e-398d-4f0b-8540-c4b43baad4cd');\n",
              "          const dataTable =\n",
              "            await google.colab.kernel.invokeFunction('convertToInteractive',\n",
              "                                                     [key], {});\n",
              "          if (!dataTable) return;\n",
              "\n",
              "          const docLinkHtml = 'Like what you see? Visit the ' +\n",
              "            '<a target=\"_blank\" href=https://colab.research.google.com/notebooks/data_table.ipynb>data table notebook</a>'\n",
              "            + ' to learn more about interactive tables.';\n",
              "          element.innerHTML = '';\n",
              "          dataTable['output_type'] = 'display_data';\n",
              "          await google.colab.output.renderOutput(dataTable, element);\n",
              "          const docLink = document.createElement('div');\n",
              "          docLink.innerHTML = docLinkHtml;\n",
              "          element.appendChild(docLink);\n",
              "        }\n",
              "      </script>\n",
              "    </div>\n",
              "  </div>\n",
              "  "
            ]
          },
          "metadata": {},
          "execution_count": 4
        }
      ]
    },
    {
      "cell_type": "markdown",
      "source": [
        "### Save Brand CSV to Drive"
      ],
      "metadata": {
        "id": "zd9SXTZa-GSR"
      }
    },
    {
      "cell_type": "code",
      "source": [
        "master_df_brands.to_csv('brands_data.csv')\n",
        "!cp brands_data.csv \"drive/Shareddrives/capstone_prayap_nithyara/\""
      ],
      "metadata": {
        "id": "Ehn3yohSN-r9"
      },
      "execution_count": null,
      "outputs": []
    },
    {
      "cell_type": "markdown",
      "source": [
        "### Import Brand CSV"
      ],
      "metadata": {
        "id": "kGmEZBfU-ChF"
      }
    },
    {
      "cell_type": "code",
      "source": [
        "brands = pd.read_csv('drive/Shareddrives/capstone_prayap_nithyara/brands_data.csv')\n",
        "brands"
      ],
      "metadata": {
        "id": "ONjLDO1lSOaX",
        "colab": {
          "base_uri": "https://localhost:8080/",
          "height": 1000
        },
        "outputId": "e47d13b4-7633-4caa-a2b3-612f4db65676"
      },
      "execution_count": null,
      "outputs": [
        {
          "output_type": "execute_result",
          "data": {
            "text/html": [
              "\n",
              "  <div id=\"df-24661bb0-f158-4ba6-9fe6-bc4c9aa2bd14\">\n",
              "    <div class=\"colab-df-container\">\n",
              "      <div>\n",
              "<style scoped>\n",
              "    .dataframe tbody tr th:only-of-type {\n",
              "        vertical-align: middle;\n",
              "    }\n",
              "\n",
              "    .dataframe tbody tr th {\n",
              "        vertical-align: top;\n",
              "    }\n",
              "\n",
              "    .dataframe thead th {\n",
              "        text-align: right;\n",
              "    }\n",
              "</style>\n",
              "<table border=\"1\" class=\"dataframe\">\n",
              "  <thead>\n",
              "    <tr style=\"text-align: right;\">\n",
              "      <th></th>\n",
              "      <th>Unnamed: 0</th>\n",
              "      <th>Account ID</th>\n",
              "      <th>Name</th>\n",
              "      <th>Followers</th>\n",
              "      <th>Followees</th>\n",
              "      <th>Posts</th>\n",
              "      <th>URL</th>\n",
              "      <th>T/F</th>\n",
              "      <th>Category</th>\n",
              "      <th>Bio</th>\n",
              "      <th>E-mail</th>\n",
              "      <th>Phone</th>\n",
              "      <th>Profile pic</th>\n",
              "    </tr>\n",
              "  </thead>\n",
              "  <tbody>\n",
              "    <tr>\n",
              "      <th>0</th>\n",
              "      <td>0</td>\n",
              "      <td>delightedbydesserthummus</td>\n",
              "      <td>The Original Dessert Hummus\\xe2\\x84\\xa2</td>\n",
              "      <td>47982</td>\n",
              "      <td>2612</td>\n",
              "      <td>1390</td>\n",
              "      <td>http://www.delightedbyhummus.com/</td>\n",
              "      <td>True</td>\n",
              "      <td>Food &amp; Personal Goods</td>\n",
              "      <td>A healthy treat for your sweet-tooth! Made wit...</td>\n",
              "      <td>contact@delightedbyhummus.com</td>\n",
              "      <td>NaN</td>\n",
              "      <td>https://scontent-lax3-1.cdninstagram.com/vp/06...</td>\n",
              "    </tr>\n",
              "    <tr>\n",
              "      <th>1</th>\n",
              "      <td>1</td>\n",
              "      <td>liketoknow.it</td>\n",
              "      <td>LIKEtoKNOW.it</td>\n",
              "      <td>3057208</td>\n",
              "      <td>1506</td>\n",
              "      <td>18984</td>\n",
              "      <td>http://hyperurl.co/agzn0m</td>\n",
              "      <td>True</td>\n",
              "      <td>Personal Goods &amp; General Merchandise Stores</td>\n",
              "      <td>Download the LIKEtoKNOW.it app now to Shop You...</td>\n",
              "      <td>info@liketoknow.it</td>\n",
              "      <td>NaN</td>\n",
              "      <td>https://scontent-lax3-1.cdninstagram.com/vp/c2...</td>\n",
              "    </tr>\n",
              "    <tr>\n",
              "      <th>2</th>\n",
              "      <td>2</td>\n",
              "      <td>jofamafashion</td>\n",
              "      <td>JOFAMA - Fashion</td>\n",
              "      <td>16942</td>\n",
              "      <td>416</td>\n",
              "      <td>1221</td>\n",
              "      <td>http://www.jofamafashion.com/</td>\n",
              "      <td>True</td>\n",
              "      <td>Personal Goods &amp; General Merchandise Stores</td>\n",
              "      <td>Leather jackets with attitude since 1926. Free...</td>\n",
              "      <td>info@jofama.se</td>\n",
              "      <td>NaN</td>\n",
              "      <td>https://scontent-lax3-1.cdninstagram.com/vp/84...</td>\n",
              "    </tr>\n",
              "    <tr>\n",
              "      <th>3</th>\n",
              "      <td>3</td>\n",
              "      <td>opullenceparis</td>\n",
              "      <td>OPULLENCE PARIS</td>\n",
              "      <td>44553</td>\n",
              "      <td>1714</td>\n",
              "      <td>502</td>\n",
              "      <td>http://www.opullence.com/</td>\n",
              "      <td>True</td>\n",
              "      <td>Personal Goods &amp; General Merchandise Stores</td>\n",
              "      <td>Fabriqu\\xc3\\xa9e \\xc3\\xa0 Paris avec amour \\xe...</td>\n",
              "      <td>opullenceparis@gmail.com</td>\n",
              "      <td>NaN</td>\n",
              "      <td>https://scontent-lax3-1.cdninstagram.com/vp/25...</td>\n",
              "    </tr>\n",
              "    <tr>\n",
              "      <th>4</th>\n",
              "      <td>4</td>\n",
              "      <td>hellobody_it</td>\n",
              "      <td>HelloBody Italia</td>\n",
              "      <td>164530</td>\n",
              "      <td>173</td>\n",
              "      <td>872</td>\n",
              "      <td>http://www.hellobody.it/shop/</td>\n",
              "      <td>True</td>\n",
              "      <td>Personal Goods &amp; General Merchandise Stores</td>\n",
              "      <td>\\xf0\\x9f\\x8c\\xbf Per una cura della pelle e de...</td>\n",
              "      <td>help@hellobody.it</td>\n",
              "      <td>NaN</td>\n",
              "      <td>https://scontent-lax3-1.cdninstagram.com/vp/26...</td>\n",
              "    </tr>\n",
              "    <tr>\n",
              "      <th>...</th>\n",
              "      <td>...</td>\n",
              "      <td>...</td>\n",
              "      <td>...</td>\n",
              "      <td>...</td>\n",
              "      <td>...</td>\n",
              "      <td>...</td>\n",
              "      <td>...</td>\n",
              "      <td>...</td>\n",
              "      <td>...</td>\n",
              "      <td>...</td>\n",
              "      <td>...</td>\n",
              "      <td>...</td>\n",
              "      <td>...</td>\n",
              "    </tr>\n",
              "    <tr>\n",
              "      <th>25277</th>\n",
              "      <td>25277</td>\n",
              "      <td>hahnemuehle_global</td>\n",
              "      <td>Hahnem\\xc3\\xbchle FineArt</td>\n",
              "      <td>18542</td>\n",
              "      <td>3803</td>\n",
              "      <td>500</td>\n",
              "      <td>http://blog.hahnemuehle.com/</td>\n",
              "      <td>True</td>\n",
              "      <td>Business &amp; Utility Services</td>\n",
              "      <td>German manufacturer of genuine artist paper si...</td>\n",
              "      <td>pr@hahnemuehle.com</td>\n",
              "      <td>4.949556e+13</td>\n",
              "      <td>https://scontent-lax3-1.cdninstagram.com/vp/ae...</td>\n",
              "    </tr>\n",
              "    <tr>\n",
              "      <th>25278</th>\n",
              "      <td>25278</td>\n",
              "      <td>boardiesapparel</td>\n",
              "      <td>Boardies\\xc2\\xae\\xf0\\x9f\\x8c\\xb4</td>\n",
              "      <td>8641</td>\n",
              "      <td>2756</td>\n",
              "      <td>966</td>\n",
              "      <td>http://www.boardiesapparel.com/</td>\n",
              "      <td>True</td>\n",
              "      <td>Personal Goods &amp; General Merchandise Stores</td>\n",
              "      <td>Just Add Water \\xf0\\x9f\\x92\\xa6               ...</td>\n",
              "      <td>collabs@boardiesapparel.com</td>\n",
              "      <td>NaN</td>\n",
              "      <td>https://scontent-lax3-1.cdninstagram.com/vp/b0...</td>\n",
              "    </tr>\n",
              "    <tr>\n",
              "      <th>25279</th>\n",
              "      <td>25279</td>\n",
              "      <td>seersecrets</td>\n",
              "      <td>Seer Secrets</td>\n",
              "      <td>3715</td>\n",
              "      <td>409</td>\n",
              "      <td>312</td>\n",
              "      <td>https://amzn.to/2QFyxT7</td>\n",
              "      <td>True</td>\n",
              "      <td>Lifestyle Services</td>\n",
              "      <td>Seers = People who can see beyond time (vision...</td>\n",
              "      <td>care@seersecrets.com</td>\n",
              "      <td>9.188006e+11</td>\n",
              "      <td>https://scontent-lax3-1.cdninstagram.com/vp/49...</td>\n",
              "    </tr>\n",
              "    <tr>\n",
              "      <th>25280</th>\n",
              "      <td>25280</td>\n",
              "      <td>quornusa</td>\n",
              "      <td>Quorn USA</td>\n",
              "      <td>10223</td>\n",
              "      <td>530</td>\n",
              "      <td>536</td>\n",
              "      <td>http://www.quorn.us/store-locator</td>\n",
              "      <td>True</td>\n",
              "      <td>Personal Goods &amp; General Merchandise Stores</td>\n",
              "      <td>Official page of Quorn USA -- Quorn is a meatl...</td>\n",
              "      <td>emily.steingart@quornfoods.com</td>\n",
              "      <td>1.312988e+10</td>\n",
              "      <td>https://scontent-lax3-1.cdninstagram.com/vp/7a...</td>\n",
              "    </tr>\n",
              "    <tr>\n",
              "      <th>25281</th>\n",
              "      <td>25281</td>\n",
              "      <td>giannichiarini</td>\n",
              "      <td>Gianni Chiarini</td>\n",
              "      <td>78457</td>\n",
              "      <td>2</td>\n",
              "      <td>1062</td>\n",
              "      <td>http://giannichiarini.com/it/</td>\n",
              "      <td>True</td>\n",
              "      <td>Personal Goods &amp; General Merchandise Stores</td>\n",
              "      <td>Made in Florence</td>\n",
              "      <td>info@contemporarybags.it</td>\n",
              "      <td>3.905527e+11</td>\n",
              "      <td>https://scontent-lax3-1.cdninstagram.com/vp/a9...</td>\n",
              "    </tr>\n",
              "  </tbody>\n",
              "</table>\n",
              "<p>25282 rows × 13 columns</p>\n",
              "</div>\n",
              "      <button class=\"colab-df-convert\" onclick=\"convertToInteractive('df-24661bb0-f158-4ba6-9fe6-bc4c9aa2bd14')\"\n",
              "              title=\"Convert this dataframe to an interactive table.\"\n",
              "              style=\"display:none;\">\n",
              "        \n",
              "  <svg xmlns=\"http://www.w3.org/2000/svg\" height=\"24px\"viewBox=\"0 0 24 24\"\n",
              "       width=\"24px\">\n",
              "    <path d=\"M0 0h24v24H0V0z\" fill=\"none\"/>\n",
              "    <path d=\"M18.56 5.44l.94 2.06.94-2.06 2.06-.94-2.06-.94-.94-2.06-.94 2.06-2.06.94zm-11 1L8.5 8.5l.94-2.06 2.06-.94-2.06-.94L8.5 2.5l-.94 2.06-2.06.94zm10 10l.94 2.06.94-2.06 2.06-.94-2.06-.94-.94-2.06-.94 2.06-2.06.94z\"/><path d=\"M17.41 7.96l-1.37-1.37c-.4-.4-.92-.59-1.43-.59-.52 0-1.04.2-1.43.59L10.3 9.45l-7.72 7.72c-.78.78-.78 2.05 0 2.83L4 21.41c.39.39.9.59 1.41.59.51 0 1.02-.2 1.41-.59l7.78-7.78 2.81-2.81c.8-.78.8-2.07 0-2.86zM5.41 20L4 18.59l7.72-7.72 1.47 1.35L5.41 20z\"/>\n",
              "  </svg>\n",
              "      </button>\n",
              "      \n",
              "  <style>\n",
              "    .colab-df-container {\n",
              "      display:flex;\n",
              "      flex-wrap:wrap;\n",
              "      gap: 12px;\n",
              "    }\n",
              "\n",
              "    .colab-df-convert {\n",
              "      background-color: #E8F0FE;\n",
              "      border: none;\n",
              "      border-radius: 50%;\n",
              "      cursor: pointer;\n",
              "      display: none;\n",
              "      fill: #1967D2;\n",
              "      height: 32px;\n",
              "      padding: 0 0 0 0;\n",
              "      width: 32px;\n",
              "    }\n",
              "\n",
              "    .colab-df-convert:hover {\n",
              "      background-color: #E2EBFA;\n",
              "      box-shadow: 0px 1px 2px rgba(60, 64, 67, 0.3), 0px 1px 3px 1px rgba(60, 64, 67, 0.15);\n",
              "      fill: #174EA6;\n",
              "    }\n",
              "\n",
              "    [theme=dark] .colab-df-convert {\n",
              "      background-color: #3B4455;\n",
              "      fill: #D2E3FC;\n",
              "    }\n",
              "\n",
              "    [theme=dark] .colab-df-convert:hover {\n",
              "      background-color: #434B5C;\n",
              "      box-shadow: 0px 1px 3px 1px rgba(0, 0, 0, 0.15);\n",
              "      filter: drop-shadow(0px 1px 2px rgba(0, 0, 0, 0.3));\n",
              "      fill: #FFFFFF;\n",
              "    }\n",
              "  </style>\n",
              "\n",
              "      <script>\n",
              "        const buttonEl =\n",
              "          document.querySelector('#df-24661bb0-f158-4ba6-9fe6-bc4c9aa2bd14 button.colab-df-convert');\n",
              "        buttonEl.style.display =\n",
              "          google.colab.kernel.accessAllowed ? 'block' : 'none';\n",
              "\n",
              "        async function convertToInteractive(key) {\n",
              "          const element = document.querySelector('#df-24661bb0-f158-4ba6-9fe6-bc4c9aa2bd14');\n",
              "          const dataTable =\n",
              "            await google.colab.kernel.invokeFunction('convertToInteractive',\n",
              "                                                     [key], {});\n",
              "          if (!dataTable) return;\n",
              "\n",
              "          const docLinkHtml = 'Like what you see? Visit the ' +\n",
              "            '<a target=\"_blank\" href=https://colab.research.google.com/notebooks/data_table.ipynb>data table notebook</a>'\n",
              "            + ' to learn more about interactive tables.';\n",
              "          element.innerHTML = '';\n",
              "          dataTable['output_type'] = 'display_data';\n",
              "          await google.colab.output.renderOutput(dataTable, element);\n",
              "          const docLink = document.createElement('div');\n",
              "          docLink.innerHTML = docLinkHtml;\n",
              "          element.appendChild(docLink);\n",
              "        }\n",
              "      </script>\n",
              "    </div>\n",
              "  </div>\n",
              "  "
            ],
            "text/plain": [
              "       Unnamed: 0                Account ID  \\\n",
              "0               0  delightedbydesserthummus   \n",
              "1               1             liketoknow.it   \n",
              "2               2             jofamafashion   \n",
              "3               3            opullenceparis   \n",
              "4               4              hellobody_it   \n",
              "...           ...                       ...   \n",
              "25277       25277        hahnemuehle_global   \n",
              "25278       25278           boardiesapparel   \n",
              "25279       25279               seersecrets   \n",
              "25280       25280                  quornusa   \n",
              "25281       25281            giannichiarini   \n",
              "\n",
              "                                          Name  Followers  Followees  Posts  \\\n",
              "0      The Original Dessert Hummus\\xe2\\x84\\xa2      47982       2612   1390   \n",
              "1                                LIKEtoKNOW.it    3057208       1506  18984   \n",
              "2                             JOFAMA - Fashion      16942        416   1221   \n",
              "3                              OPULLENCE PARIS      44553       1714    502   \n",
              "4                             HelloBody Italia     164530        173    872   \n",
              "...                                        ...        ...        ...    ...   \n",
              "25277                Hahnem\\xc3\\xbchle FineArt      18542       3803    500   \n",
              "25278         Boardies\\xc2\\xae\\xf0\\x9f\\x8c\\xb4       8641       2756    966   \n",
              "25279                             Seer Secrets       3715        409    312   \n",
              "25280                                Quorn USA      10223        530    536   \n",
              "25281                          Gianni Chiarini      78457          2   1062   \n",
              "\n",
              "                                     URL   T/F  \\\n",
              "0      http://www.delightedbyhummus.com/  True   \n",
              "1              http://hyperurl.co/agzn0m  True   \n",
              "2          http://www.jofamafashion.com/  True   \n",
              "3              http://www.opullence.com/  True   \n",
              "4          http://www.hellobody.it/shop/  True   \n",
              "...                                  ...   ...   \n",
              "25277       http://blog.hahnemuehle.com/  True   \n",
              "25278    http://www.boardiesapparel.com/  True   \n",
              "25279            https://amzn.to/2QFyxT7  True   \n",
              "25280  http://www.quorn.us/store-locator  True   \n",
              "25281      http://giannichiarini.com/it/  True   \n",
              "\n",
              "                                          Category  \\\n",
              "0                            Food & Personal Goods   \n",
              "1      Personal Goods & General Merchandise Stores   \n",
              "2      Personal Goods & General Merchandise Stores   \n",
              "3      Personal Goods & General Merchandise Stores   \n",
              "4      Personal Goods & General Merchandise Stores   \n",
              "...                                            ...   \n",
              "25277                  Business & Utility Services   \n",
              "25278  Personal Goods & General Merchandise Stores   \n",
              "25279                           Lifestyle Services   \n",
              "25280  Personal Goods & General Merchandise Stores   \n",
              "25281  Personal Goods & General Merchandise Stores   \n",
              "\n",
              "                                                     Bio  \\\n",
              "0      A healthy treat for your sweet-tooth! Made wit...   \n",
              "1      Download the LIKEtoKNOW.it app now to Shop You...   \n",
              "2      Leather jackets with attitude since 1926. Free...   \n",
              "3      Fabriqu\\xc3\\xa9e \\xc3\\xa0 Paris avec amour \\xe...   \n",
              "4      \\xf0\\x9f\\x8c\\xbf Per una cura della pelle e de...   \n",
              "...                                                  ...   \n",
              "25277  German manufacturer of genuine artist paper si...   \n",
              "25278  Just Add Water \\xf0\\x9f\\x92\\xa6               ...   \n",
              "25279  Seers = People who can see beyond time (vision...   \n",
              "25280  Official page of Quorn USA -- Quorn is a meatl...   \n",
              "25281                                   Made in Florence   \n",
              "\n",
              "                               E-mail         Phone  \\\n",
              "0       contact@delightedbyhummus.com           NaN   \n",
              "1                  info@liketoknow.it           NaN   \n",
              "2                      info@jofama.se           NaN   \n",
              "3            opullenceparis@gmail.com           NaN   \n",
              "4                   help@hellobody.it           NaN   \n",
              "...                               ...           ...   \n",
              "25277              pr@hahnemuehle.com  4.949556e+13   \n",
              "25278     collabs@boardiesapparel.com           NaN   \n",
              "25279            care@seersecrets.com  9.188006e+11   \n",
              "25280  emily.steingart@quornfoods.com  1.312988e+10   \n",
              "25281        info@contemporarybags.it  3.905527e+11   \n",
              "\n",
              "                                             Profile pic  \n",
              "0      https://scontent-lax3-1.cdninstagram.com/vp/06...  \n",
              "1      https://scontent-lax3-1.cdninstagram.com/vp/c2...  \n",
              "2      https://scontent-lax3-1.cdninstagram.com/vp/84...  \n",
              "3      https://scontent-lax3-1.cdninstagram.com/vp/25...  \n",
              "4      https://scontent-lax3-1.cdninstagram.com/vp/26...  \n",
              "...                                                  ...  \n",
              "25277  https://scontent-lax3-1.cdninstagram.com/vp/ae...  \n",
              "25278  https://scontent-lax3-1.cdninstagram.com/vp/b0...  \n",
              "25279  https://scontent-lax3-1.cdninstagram.com/vp/49...  \n",
              "25280  https://scontent-lax3-1.cdninstagram.com/vp/7a...  \n",
              "25281  https://scontent-lax3-1.cdninstagram.com/vp/a9...  \n",
              "\n",
              "[25282 rows x 13 columns]"
            ]
          },
          "metadata": {},
          "execution_count": 5
        }
      ]
    },
    {
      "cell_type": "markdown",
      "source": [
        "## Influencer Accounts "
      ],
      "metadata": {
        "id": "SsbpXOqDX7Mo"
      }
    },
    {
      "cell_type": "markdown",
      "source": [
        "### Create Influencers DataFrame"
      ],
      "metadata": {
        "id": "Qd7eP9TX-Lbv"
      }
    },
    {
      "cell_type": "code",
      "source": [
        "with ZipFile(copied_path+\"profiles_influencers.zip\", 'r') as zipObject:\n",
        "\n",
        "  listOfFileNames = zipObject.namelist()\n",
        "  master_df_influencers = pd.DataFrame(columns=['Account ID', 'Name', 'Followers', 'Followees', 'Posts', 'URL', 'T/F', 'Category', 'Bio', 'E-mail', 'Phone', 'Profile pic'])\n",
        "  for fileName in listOfFileNames[1:]:\n",
        "    f = zipObject.open(fileName)\n",
        "    contents = str(f.read())[2:]\n",
        "    content_list = contents.split(\"\\\\t\")\n",
        "\n",
        "    influencer = fileName.split(\"/\")\n",
        "    influencer = influencer[1]\n",
        "    columns = [influencer] + content_list\n",
        "    try:\n",
        "      master_df_influencers.loc[len(master_df_influencers), :] = columns\n",
        "      master_df_influencers.append(columns)\n",
        "    except:\n",
        "      continue\n",
        "\n",
        "\n",
        "\n",
        "master_df_influencers"
      ],
      "metadata": {
        "id": "xwloX6KkO52k"
      },
      "execution_count": null,
      "outputs": []
    },
    {
      "cell_type": "markdown",
      "source": [
        "### Save Influencers CSV to Drive"
      ],
      "metadata": {
        "id": "RTXs3A5J-QIY"
      }
    },
    {
      "cell_type": "code",
      "source": [
        "master_df_influencers.to_csv('influencers_data.csv')\n",
        "!cp influencers_data.csv \"drive/Shareddrives/capstone_prayap_nithyara/\""
      ],
      "metadata": {
        "id": "UIa1bUFwXFCq"
      },
      "execution_count": null,
      "outputs": []
    },
    {
      "cell_type": "markdown",
      "source": [
        "### Import Influencer CSV"
      ],
      "metadata": {
        "id": "JLfIk79y-ic2"
      }
    },
    {
      "cell_type": "code",
      "source": [
        "influencers = pd.read_csv('drive/Shareddrives/capstone_prayap_nithyara/influencers_data.csv')\n",
        "influencers"
      ],
      "metadata": {
        "id": "8v1CRlZE-mi3"
      },
      "execution_count": null,
      "outputs": []
    },
    {
      "cell_type": "markdown",
      "source": [
        "## Instagram Posts"
      ],
      "metadata": {
        "id": "oMoP8iv2fAsl"
      }
    },
    {
      "cell_type": "markdown",
      "source": [
        "### Create Posts DataFrame "
      ],
      "metadata": {
        "id": "-coBev1x-qx5"
      }
    },
    {
      "cell_type": "code",
      "source": [
        "post_info_df = pd.read_csv(copied_path+\"post_info.txt\", sep='\\t',on_bad_lines='skip', header=None)\n",
        "post_info_df"
      ],
      "metadata": {
        "id": "_QfNkNV2fI8p"
      },
      "execution_count": null,
      "outputs": []
    },
    {
      "cell_type": "code",
      "source": [
        "post_info_df.columns"
      ],
      "metadata": {
        "id": "jiHp-Y1agMsj"
      },
      "execution_count": null,
      "outputs": []
    },
    {
      "cell_type": "code",
      "source": [
        "post_info_df = post_info_df.rename(columns={0: \"Post ID\", 1: \"Account ID\", 2: \"Sponsorship Label\", 3: \"JSON File\", 4: \"Image Files\"})\n",
        "post_info_df.set_index(\"Post ID\")\n",
        "post_info_df"
      ],
      "metadata": {
        "id": "N59mvr_lgRXH"
      },
      "execution_count": null,
      "outputs": []
    },
    {
      "cell_type": "markdown",
      "source": [
        "### Save Posts CSV to Drive"
      ],
      "metadata": {
        "id": "1XGE1IzE-xmJ"
      }
    },
    {
      "cell_type": "code",
      "source": [
        "post_info_df.to_csv('posts_data.csv')\n",
        "!cp posts_data.csv \"drive/Shareddrives/capstone_prayap_nithyara/\""
      ],
      "metadata": {
        "id": "bXQj9q3AjtcC"
      },
      "execution_count": null,
      "outputs": []
    },
    {
      "cell_type": "markdown",
      "source": [
        "### Import Posts CSV"
      ],
      "metadata": {
        "id": "jaETcAFy-8IL"
      }
    },
    {
      "cell_type": "code",
      "source": [
        "posts = pd.read_csv('drive/Shareddrives/capstone_prayap_nithyara/posts_data.csv')\n",
        "posts = posts.drop([\"Unnamed: 0\"], axis=1)\n",
        "posts"
      ],
      "metadata": {
        "id": "eDsmfIqe--ix"
      },
      "execution_count": null,
      "outputs": []
    },
    {
      "cell_type": "markdown",
      "source": [
        "## JSON Files "
      ],
      "metadata": {
        "id": "uPyJ6rj2hE4J"
      }
    },
    {
      "cell_type": "markdown",
      "source": [
        "### Save JSON Records to Drive in Batches"
      ],
      "metadata": {
        "id": "XxDZc2bN-wqF"
      }
    },
    {
      "cell_type": "code",
      "source": [
        "import json"
      ],
      "metadata": {
        "id": "maiN15rwBGJm"
      },
      "execution_count": null,
      "outputs": []
    },
    {
      "cell_type": "code",
      "source": [
        "with ZipFile(copied_path+\"json_files.zip\", 'r') as zipObject:\n",
        "\n",
        "  listOfFileNames = zipObject.namelist()\n",
        "  master_df_json_1 = pd.DataFrame(columns=['File ID', 'File Contents'])\n",
        "  for fileName in listOfFileNames[1:50000]:\n",
        "    with zipObject.open(fileName) as f:\n",
        "      contents = f.read()\n",
        "      d = json.loads(contents.decode(\"utf-8\"))\n",
        "\n",
        "\n",
        "    json_file = fileName.split(\"/\")\n",
        "    json_file = json_file[1]\n",
        "    columns = [json_file, d]\n",
        "    try:\n",
        "      master_df_json_1.loc[len(master_df_json_1), :] = columns\n",
        "      master_df_json_1.append(columns)\n",
        "    except:\n",
        "      continue\n",
        "\n",
        "\n",
        "\n",
        "master_df_json_1"
      ],
      "metadata": {
        "id": "MNWvA4J-hGTH"
      },
      "execution_count": null,
      "outputs": []
    },
    {
      "cell_type": "code",
      "source": [
        "master_df_json_1.to_csv('master_df_json_1.csv')\n",
        "!cp master_df_json_1.csv \"drive/Shareddrives/capstone_prayap_nithyara/\""
      ],
      "metadata": {
        "id": "uxCajUpTZ5cF"
      },
      "execution_count": null,
      "outputs": []
    },
    {
      "cell_type": "code",
      "source": [
        "with ZipFile(copied_path+\"json_files.zip\", 'r') as zipObject:\n",
        "\n",
        "  listOfFileNames = zipObject.namelist()\n",
        "  master_df_json_2 = pd.DataFrame(columns=['File ID', 'File Contents'])\n",
        "  for fileName in listOfFileNames[50001:100000]:\n",
        "    with zipObject.open(fileName) as f:\n",
        "      contents = f.read()\n",
        "      d = json.loads(contents.decode(\"utf-8\"))\n",
        "\n",
        "\n",
        "\n",
        "    json_file = fileName.split(\"/\")\n",
        "    json_file = json_file[1]\n",
        "    columns = [json_file, d]\n",
        "    try:\n",
        "      master_df_json_2.loc[len(master_df_json_2), :] = columns\n",
        "      master_df_json_2.append(columns)\n",
        "    except:\n",
        "      continue\n",
        "\n",
        "\n",
        "\n",
        "master_df_json_2"
      ],
      "metadata": {
        "id": "VrxJniV0b2V-"
      },
      "execution_count": null,
      "outputs": []
    },
    {
      "cell_type": "code",
      "source": [
        "master_df_json_2.to_csv('master_df_json_2.csv')\n",
        "!cp master_df_json_2.csv \"drive/Shareddrives/capstone_prayap_nithyara/\""
      ],
      "metadata": {
        "id": "VhtHHwG1fhvv"
      },
      "execution_count": null,
      "outputs": []
    },
    {
      "cell_type": "code",
      "source": [
        "with ZipFile(copied_path+\"json_files.zip\", 'r') as zipObject:\n",
        "\n",
        "  listOfFileNames = zipObject.namelist()\n",
        "  master_df_json_3 = pd.DataFrame(columns=['File ID', 'File Contents'])\n",
        "  for fileName in listOfFileNames[100001:150000]:\n",
        "    with zipObject.open(fileName) as f:\n",
        "      contents = f.read()\n",
        "      d = json.loads(contents.decode(\"utf-8\"))\n",
        "\n",
        "\n",
        "    json_file = fileName.split(\"/\")\n",
        "    json_file = json_file[1]\n",
        "    columns = [json_file, d]\n",
        "    try:\n",
        "      master_df_json_3.loc[len(master_df_json_3), :] = columns\n",
        "      master_df_json_3.append(columns)\n",
        "    except:\n",
        "      continue\n",
        "\n",
        "\n",
        "\n",
        "master_df_json_3"
      ],
      "metadata": {
        "id": "wGqLlHb-fnJQ"
      },
      "execution_count": null,
      "outputs": []
    },
    {
      "cell_type": "code",
      "source": [
        "master_df_json_3.to_csv('master_df_json_3.csv')\n",
        "!cp master_df_json_3.csv \"drive/Shareddrives/capstone_prayap_nithyara/\""
      ],
      "metadata": {
        "id": "n2f_PomBjdVW"
      },
      "execution_count": null,
      "outputs": []
    },
    {
      "cell_type": "code",
      "source": [
        "with ZipFile(copied_path+\"json_files.zip\", 'r') as zipObject:\n",
        "\n",
        "  listOfFileNames = zipObject.namelist()\n",
        "  master_df_json_4 = pd.DataFrame(columns=['File ID', 'File Contents'])\n",
        "  for fileName in listOfFileNames[150001:200000]:\n",
        "    with zipObject.open(fileName) as f:\n",
        "      contents = f.read()\n",
        "      d = json.loads(contents.decode(\"utf-8\"))\n",
        "\n",
        "\n",
        "    json_file = fileName.split(\"/\")\n",
        "    json_file = json_file[1]\n",
        "    columns = [json_file, d]\n",
        "    try:\n",
        "      master_df_json_4.loc[len(master_df_json_4), :] = columns\n",
        "      master_df_json_4.append(columns)\n",
        "    except:\n",
        "      continue\n",
        "\n",
        "\n",
        "\n",
        "master_df_json_4"
      ],
      "metadata": {
        "id": "SwICaXKzjpXG"
      },
      "execution_count": null,
      "outputs": []
    },
    {
      "cell_type": "code",
      "source": [
        "master_df_json_4.to_csv('master_df_json_4.csv')\n",
        "!cp master_df_json_4.csv \"drive/Shareddrives/capstone_prayap_nithyara/\""
      ],
      "metadata": {
        "id": "e2ae37yunPVw"
      },
      "execution_count": null,
      "outputs": []
    },
    {
      "cell_type": "code",
      "source": [
        "with ZipFile(copied_path+\"json_files.zip\", 'r') as zipObject:\n",
        "\n",
        "  listOfFileNames = zipObject.namelist()\n",
        "  master_df_json_5 = pd.DataFrame(columns=['File ID', 'File Contents'])\n",
        "  for fileName in listOfFileNames[200001:250000]:\n",
        "    with zipObject.open(fileName) as f:\n",
        "      contents = f.read()\n",
        "      d = json.loads(contents.decode(\"utf-8\"))\n",
        "\n",
        "\n",
        "\n",
        "    json_file = fileName.split(\"/\")\n",
        "    json_file = json_file[1]\n",
        "    columns = [json_file, d]\n",
        "    try:\n",
        "      master_df_json_5.loc[len(master_df_json_5), :] = columns\n",
        "      master_df_json_5.append(columns)\n",
        "    except:\n",
        "      continue\n",
        "\n",
        "\n",
        "\n",
        "master_df_json_5"
      ],
      "metadata": {
        "id": "4SGErv2rnS5_"
      },
      "execution_count": null,
      "outputs": []
    },
    {
      "cell_type": "code",
      "source": [
        "master_df_json_5.to_csv('master_df_json_5.csv')\n",
        "!cp master_df_json_5.csv \"drive/Shareddrives/capstone_prayap_nithyara/\""
      ],
      "metadata": {
        "id": "J8_VpujGqohi"
      },
      "execution_count": null,
      "outputs": []
    },
    {
      "cell_type": "code",
      "source": [
        "with ZipFile(copied_path+\"json_files.zip\", 'r') as zipObject:\n",
        "\n",
        "  listOfFileNames = zipObject.namelist()\n",
        "  master_df_json_6 = pd.DataFrame(columns=['File ID', 'File Contents'])\n",
        "  for fileName in listOfFileNames[250001:300000]:\n",
        "    with zipObject.open(fileName) as f:\n",
        "      contents = f.read()\n",
        "      d = json.loads(contents.decode(\"utf-8\"))\n",
        "\n",
        "\n",
        "    json_file = fileName.split(\"/\")\n",
        "    json_file = json_file[1]\n",
        "    columns = [json_file, d]\n",
        "    try:\n",
        "      master_df_json_6.loc[len(master_df_json_6), :] = columns\n",
        "      master_df_json_6.append(columns)\n",
        "    except:\n",
        "      continue\n",
        "\n",
        "\n",
        "\n",
        "master_df_json_6"
      ],
      "metadata": {
        "id": "fO5fkqGuqrzp"
      },
      "execution_count": null,
      "outputs": []
    },
    {
      "cell_type": "code",
      "source": [
        "master_df_json_6.to_csv('master_df_json_6.csv')\n",
        "!cp master_df_json_6.csv \"drive/Shareddrives/capstone_prayap_nithyara/\""
      ],
      "metadata": {
        "id": "nSLDL7cuuOey"
      },
      "execution_count": null,
      "outputs": []
    },
    {
      "cell_type": "code",
      "source": [
        "with ZipFile(copied_path+\"json_files.zip\", 'r') as zipObject:\n",
        "\n",
        "  listOfFileNames = zipObject.namelist()\n",
        "  master_df_json_7 = pd.DataFrame(columns=['File ID', 'File Contents'])\n",
        "  for fileName in listOfFileNames[300001:350000]:\n",
        "    with zipObject.open(fileName) as f:\n",
        "      contents = f.read()\n",
        "      d = json.loads(contents.decode(\"utf-8\"))\n",
        "\n",
        "\n",
        "    json_file = fileName.split(\"/\")\n",
        "    json_file = json_file[1]\n",
        "    columns = [json_file, d]\n",
        "    try:\n",
        "      master_df_json_7.loc[len(master_df_json_7), :] = columns\n",
        "      master_df_json_7.append(columns)\n",
        "    except:\n",
        "      continue\n",
        "\n",
        "\n",
        "\n",
        "master_df_json_7"
      ],
      "metadata": {
        "id": "S2_KcjmsuSK1"
      },
      "execution_count": null,
      "outputs": []
    },
    {
      "cell_type": "code",
      "source": [
        "master_df_json_7.to_csv('master_df_json_7.csv')\n",
        "!cp master_df_json_7.csv \"drive/Shareddrives/capstone_prayap_nithyara/\""
      ],
      "metadata": {
        "id": "C_h83DWLx4Q2"
      },
      "execution_count": null,
      "outputs": []
    },
    {
      "cell_type": "code",
      "source": [
        "with ZipFile(copied_path+\"json_files.zip\", 'r') as zipObject:\n",
        "\n",
        "  listOfFileNames = zipObject.namelist()\n",
        "  master_df_json_8 = pd.DataFrame(columns=['File ID', 'File Contents'])\n",
        "  for fileName in listOfFileNames[350001:400000]:\n",
        "    with zipObject.open(fileName) as f:\n",
        "      contents = f.read()\n",
        "      d = json.loads(contents.decode(\"utf-8\"))\n",
        "\n",
        "\n",
        "    json_file = fileName.split(\"/\")\n",
        "    json_file = json_file[1]\n",
        "    columns = [json_file, d]\n",
        "    try:\n",
        "      master_df_json_8.loc[len(master_df_json_8), :] = columns\n",
        "      master_df_json_8.append(columns)\n",
        "    except:\n",
        "      continue\n",
        "\n",
        "\n",
        "\n",
        "master_df_json_8"
      ],
      "metadata": {
        "id": "I0sU40TWx-6g"
      },
      "execution_count": null,
      "outputs": []
    },
    {
      "cell_type": "code",
      "source": [
        "master_df_json_8.to_csv('master_df_json_8.csv')\n",
        "!cp master_df_json_8.csv \"drive/Shareddrives/capstone_prayap_nithyara/\""
      ],
      "metadata": {
        "id": "-5ftqBU51aNC"
      },
      "execution_count": null,
      "outputs": []
    },
    {
      "cell_type": "code",
      "source": [
        "with ZipFile(copied_path+\"json_files.zip\", 'r') as zipObject:\n",
        "\n",
        "  listOfFileNames = zipObject.namelist()\n",
        "  master_df_json_9 = pd.DataFrame(columns=['File ID', 'File Contents'])\n",
        "  for fileName in listOfFileNames[400001:450000]:\n",
        "    with zipObject.open(fileName) as f:\n",
        "      contents = f.read()\n",
        "      d = json.loads(contents.decode(\"utf-8\"))\n",
        "\n",
        "\n",
        "    json_file = fileName.split(\"/\")\n",
        "    json_file = json_file[1]\n",
        "    columns = [json_file, d]\n",
        "    try:\n",
        "      master_df_json_9.loc[len(master_df_json_9), :] = columns\n",
        "      master_df_json_9.append(columns)\n",
        "    except:\n",
        "      continue\n",
        "\n",
        "\n",
        "\n",
        "master_df_json_9"
      ],
      "metadata": {
        "id": "qfy9_y0e1eF5"
      },
      "execution_count": null,
      "outputs": []
    },
    {
      "cell_type": "code",
      "source": [
        "master_df_json_9.to_csv('master_df_json_9.csv')\n",
        "!cp master_df_json_9.csv \"drive/Shareddrives/capstone_prayap_nithyara/\""
      ],
      "metadata": {
        "id": "QtJUJPnZ5Lfs"
      },
      "execution_count": null,
      "outputs": []
    },
    {
      "cell_type": "code",
      "source": [
        "with ZipFile(copied_path+\"json_files.zip\", 'r') as zipObject:\n",
        "\n",
        "  listOfFileNames = zipObject.namelist()\n",
        "  master_df_json_10 = pd.DataFrame(columns=['File ID', 'File Contents'])\n",
        "  for fileName in listOfFileNames[450001:500000]:\n",
        "    with zipObject.open(fileName) as f:\n",
        "      contents = f.read()\n",
        "      d = json.loads(contents.decode(\"utf-8\"))\n",
        "\n",
        "\n",
        "    json_file = fileName.split(\"/\")\n",
        "    json_file = json_file[1]\n",
        "    columns = [json_file, d]\n",
        "    try:\n",
        "      master_df_json_10.loc[len(master_df_json_10), :] = columns\n",
        "      master_df_json_10.append(columns)\n",
        "    except:\n",
        "      continue\n",
        "\n",
        "\n",
        "\n",
        "master_df_json_10"
      ],
      "metadata": {
        "id": "QTByBO2q5OgM"
      },
      "execution_count": null,
      "outputs": []
    },
    {
      "cell_type": "code",
      "source": [
        "master_df_json_10.to_csv('master_df_json_10.csv')\n",
        "!cp master_df_json_10.csv \"drive/Shareddrives/capstone_prayap_nithyara/\""
      ],
      "metadata": {
        "id": "zCTzq-kn8t9t"
      },
      "execution_count": null,
      "outputs": []
    },
    {
      "cell_type": "code",
      "source": [
        "with ZipFile(copied_path+\"json_files.zip\", 'r') as zipObject:\n",
        "\n",
        "  listOfFileNames = zipObject.namelist()\n",
        "  master_df_json_11 = pd.DataFrame(columns=['File ID', 'File Contents'])\n",
        "  for fileName in listOfFileNames[500001:550000]:\n",
        "    with zipObject.open(fileName) as f:\n",
        "      contents = f.read()\n",
        "      d = json.loads(contents.decode(\"utf-8\"))\n",
        "\n",
        "\n",
        "    json_file = fileName.split(\"/\")\n",
        "    json_file = json_file[1]\n",
        "    columns = [json_file, d]\n",
        "    try:\n",
        "      master_df_json_11.loc[len(master_df_json_11), :] = columns\n",
        "      master_df_json_11.append(columns)\n",
        "    except:\n",
        "      continue\n",
        "\n",
        "\n",
        "\n",
        "master_df_json_11"
      ],
      "metadata": {
        "id": "NBHmvlcg9jMr"
      },
      "execution_count": null,
      "outputs": []
    },
    {
      "cell_type": "code",
      "source": [
        "master_df_json_11.to_csv('master_df_json_11.csv')\n",
        "!cp master_df_json_11.csv \"drive/Shareddrives/capstone_prayap_nithyara/\""
      ],
      "metadata": {
        "id": "bZLQ5dKyBjDj"
      },
      "execution_count": null,
      "outputs": []
    },
    {
      "cell_type": "code",
      "source": [
        "with ZipFile(copied_path+\"json_files.zip\", 'r') as zipObject:\n",
        "\n",
        "  listOfFileNames = zipObject.namelist()\n",
        "  master_df_json_12 = pd.DataFrame(columns=['File ID', 'File Contents'])\n",
        "  for fileName in listOfFileNames[550001:600000]:\n",
        "    with zipObject.open(fileName) as f:\n",
        "      contents = f.read()\n",
        "      d = json.loads(contents.decode(\"utf-8\"))\n",
        "\n",
        "\n",
        "    json_file = fileName.split(\"/\")\n",
        "    json_file = json_file[1]\n",
        "    columns = [json_file, d]\n",
        "    try:\n",
        "      master_df_json_12.loc[len(master_df_json_12), :] = columns\n",
        "      master_df_json_12.append(columns)\n",
        "    except:\n",
        "      continue\n",
        "\n",
        "\n",
        "\n",
        "master_df_json_12"
      ],
      "metadata": {
        "id": "wCwyWC0aBfix"
      },
      "execution_count": null,
      "outputs": []
    },
    {
      "cell_type": "code",
      "source": [
        "master_df_json_12.to_csv('master_df_json_12.csv')\n",
        "!cp master_df_json_12.csv \"drive/Shareddrives/capstone_prayap_nithyara/\""
      ],
      "metadata": {
        "id": "KkJ7t58TEo_q"
      },
      "execution_count": null,
      "outputs": []
    },
    {
      "cell_type": "code",
      "source": [
        "with ZipFile(copied_path+\"json_files.zip\", 'r') as zipObject:\n",
        "\n",
        "  listOfFileNames = zipObject.namelist()\n",
        "  master_df_json_13 = pd.DataFrame(columns=['File ID', 'File Contents'])\n",
        "  for fileName in listOfFileNames[600001:650000]:\n",
        "    with zipObject.open(fileName) as f:\n",
        "      contents = f.read()\n",
        "      d = json.loads(contents.decode(\"utf-8\"))\n",
        "\n",
        "\n",
        "    json_file = fileName.split(\"/\")\n",
        "    json_file = json_file[1]\n",
        "    columns = [json_file, d]\n",
        "    try:\n",
        "      master_df_json_13.loc[len(master_df_json_13), :] = columns\n",
        "      master_df_json_13.append(columns)\n",
        "    except:\n",
        "      continue\n",
        "\n",
        "\n",
        "\n",
        "master_df_json_13"
      ],
      "metadata": {
        "id": "7DCeyPjOErs5"
      },
      "execution_count": null,
      "outputs": []
    },
    {
      "cell_type": "code",
      "source": [
        "master_df_json_13.to_csv('master_df_json_13.csv')\n",
        "!cp master_df_json_13.csv \"drive/Shareddrives/capstone_prayap_nithyara/\""
      ],
      "metadata": {
        "id": "dmWo5rgTIfKk"
      },
      "execution_count": null,
      "outputs": []
    },
    {
      "cell_type": "code",
      "source": [
        "with ZipFile(copied_path+\"json_files.zip\", 'r') as zipObject:\n",
        "\n",
        "  listOfFileNames = zipObject.namelist()\n",
        "  master_df_json_14 = pd.DataFrame(columns=['File ID', 'File Contents'])\n",
        "  for fileName in listOfFileNames[650001:700000]:\n",
        "    with zipObject.open(fileName) as f:\n",
        "      contents = f.read()\n",
        "      d = json.loads(contents.decode(\"utf-8\"))\n",
        "\n",
        "\n",
        "    json_file = fileName.split(\"/\")\n",
        "    json_file = json_file[1]\n",
        "    columns = [json_file, d]\n",
        "    try:\n",
        "      master_df_json_14.loc[len(master_df_json_14), :] = columns\n",
        "      master_df_json_14.append(columns)\n",
        "    except:\n",
        "      continue\n",
        "\n",
        "\n",
        "\n",
        "master_df_json_14"
      ],
      "metadata": {
        "id": "RXWfg8mdIi1T"
      },
      "execution_count": null,
      "outputs": []
    },
    {
      "cell_type": "code",
      "source": [
        "master_df_json_14.to_csv('master_df_json_14.csv')\n",
        "!cp master_df_json_14.csv \"drive/Shareddrives/capstone_prayap_nithyara/\""
      ],
      "metadata": {
        "id": "-eh4h7KqIubO"
      },
      "execution_count": null,
      "outputs": []
    },
    {
      "cell_type": "code",
      "source": [
        "with ZipFile(copied_path+\"json_files.zip\", 'r') as zipObject:\n",
        "\n",
        "  listOfFileNames = zipObject.namelist()\n",
        "  master_df_json_15 = pd.DataFrame(columns=['File ID', 'File Contents'])\n",
        "  for fileName in listOfFileNames[700001:750000]:\n",
        "    with zipObject.open(fileName) as f:\n",
        "      contents = f.read()\n",
        "      d = json.loads(contents.decode(\"utf-8\"))\n",
        "\n",
        "\n",
        "    json_file = fileName.split(\"/\")\n",
        "    json_file = json_file[1]\n",
        "    columns = [json_file, d]\n",
        "    try:\n",
        "      master_df_json_15.loc[len(master_df_json_15), :] = columns\n",
        "      master_df_json_15.append(columns)\n",
        "    except:\n",
        "      continue\n",
        "\n",
        "\n",
        "\n",
        "master_df_json_15"
      ],
      "metadata": {
        "id": "b6D9gMD5L8hW"
      },
      "execution_count": null,
      "outputs": []
    },
    {
      "cell_type": "code",
      "source": [
        "master_df_json_15.to_csv('master_df_json_15.csv')\n",
        "!cp master_df_json_15.csv \"drive/Shareddrives/capstone_prayap_nithyara/\""
      ],
      "metadata": {
        "id": "LEWVDmQuMPHP"
      },
      "execution_count": null,
      "outputs": []
    },
    {
      "cell_type": "code",
      "source": [
        "with ZipFile(copied_path+\"json_files.zip\", 'r') as zipObject:\n",
        "\n",
        "  listOfFileNames = zipObject.namelist()\n",
        "  master_df_json_16 = pd.DataFrame(columns=['File ID', 'File Contents'])\n",
        "  for fileName in listOfFileNames[750001:800000]:\n",
        "    with zipObject.open(fileName) as f:\n",
        "      contents = f.read()\n",
        "      d = json.loads(contents.decode(\"utf-8\"))\n",
        "\n",
        "\n",
        "    json_file = fileName.split(\"/\")\n",
        "    json_file = json_file[1]\n",
        "    columns = [json_file, d]\n",
        "    try:\n",
        "      master_df_json_16.loc[len(master_df_json_16), :] = columns\n",
        "      master_df_json_16.append(columns)\n",
        "    except:\n",
        "      continue\n",
        "\n",
        "\n",
        "\n",
        "master_df_json_16"
      ],
      "metadata": {
        "id": "DpGkAdV7Pqfc"
      },
      "execution_count": null,
      "outputs": []
    },
    {
      "cell_type": "code",
      "source": [
        "master_df_json_16.to_csv('master_df_json_16.csv')\n",
        "!cp master_df_json_16.csv \"drive/Shareddrives/capstone_prayap_nithyara/\""
      ],
      "metadata": {
        "id": "a_34SEE1Pxu1"
      },
      "execution_count": null,
      "outputs": []
    },
    {
      "cell_type": "code",
      "source": [
        "with ZipFile(copied_path+\"json_files.zip\", 'r') as zipObject:\n",
        "\n",
        "  listOfFileNames = zipObject.namelist()\n",
        "  master_df_json_17 = pd.DataFrame(columns=['File ID', 'File Contents'])\n",
        "  for fileName in listOfFileNames[800001:850000]:\n",
        "    with zipObject.open(fileName) as f:\n",
        "      contents = f.read()\n",
        "      d = json.loads(contents.decode(\"utf-8\"))\n",
        "\n",
        "\n",
        "    json_file = fileName.split(\"/\")\n",
        "    json_file = json_file[1]\n",
        "    columns = [json_file, d]\n",
        "    try:\n",
        "      master_df_json_17.loc[len(master_df_json_17), :] = columns\n",
        "      master_df_json_17.append(columns)\n",
        "    except:\n",
        "      continue\n",
        "\n",
        "\n",
        "\n",
        "master_df_json_17"
      ],
      "metadata": {
        "id": "Uu3IAL2PSaoe"
      },
      "execution_count": null,
      "outputs": []
    },
    {
      "cell_type": "code",
      "source": [
        "master_df_json_17.to_csv('master_df_json_17.csv')\n",
        "!cp master_df_json_17.csv \"drive/Shareddrives/capstone_prayap_nithyara/\""
      ],
      "metadata": {
        "id": "O70-ByBATG6a"
      },
      "execution_count": null,
      "outputs": []
    },
    {
      "cell_type": "code",
      "source": [
        "with ZipFile(copied_path+\"json_files.zip\", 'r') as zipObject:\n",
        "\n",
        "  listOfFileNames = zipObject.namelist()\n",
        "  master_df_json_18 = pd.DataFrame(columns=['File ID', 'File Contents'])\n",
        "  for fileName in listOfFileNames[850001:900000]:\n",
        "    with zipObject.open(fileName) as f:\n",
        "      contents = f.read()\n",
        "      d = json.loads(contents.decode(\"utf-8\"))\n",
        "\n",
        "\n",
        "    json_file = fileName.split(\"/\")\n",
        "    json_file = json_file[1]\n",
        "    columns = [json_file, d]\n",
        "    try:\n",
        "      master_df_json_18.loc[len(master_df_json_18), :] = columns\n",
        "      master_df_json_18.append(columns)\n",
        "    except:\n",
        "      continue\n",
        "\n",
        "\n",
        "\n",
        "master_df_json_18"
      ],
      "metadata": {
        "id": "SVJoygZbWXkd"
      },
      "execution_count": null,
      "outputs": []
    },
    {
      "cell_type": "code",
      "source": [
        "master_df_json_18.to_csv('master_df_json_18.csv')\n",
        "!cp master_df_json_18.csv \"drive/Shareddrives/capstone_prayap_nithyara/\""
      ],
      "metadata": {
        "id": "k9-5GGpvZwGy"
      },
      "execution_count": null,
      "outputs": []
    },
    {
      "cell_type": "code",
      "source": [
        "with ZipFile(copied_path+\"json_files.zip\", 'r') as zipObject:\n",
        "\n",
        "  listOfFileNames = zipObject.namelist()\n",
        "  master_df_json_19 = pd.DataFrame(columns=['File ID', 'File Contents'])\n",
        "  for fileName in listOfFileNames[900001:950000]:\n",
        "    with zipObject.open(fileName) as f:\n",
        "      contents = f.read()\n",
        "      d = json.loads(contents.decode(\"utf-8\"))\n",
        "\n",
        "\n",
        "    json_file = fileName.split(\"/\")\n",
        "    json_file = json_file[1]\n",
        "    columns = [json_file, d]\n",
        "    try:\n",
        "      master_df_json_19.loc[len(master_df_json_19), :] = columns\n",
        "      master_df_json_19.append(columns)\n",
        "    except:\n",
        "      continue\n",
        "\n",
        "\n",
        "\n",
        "master_df_json_19"
      ],
      "metadata": {
        "id": "1SBEdhYiZy4b"
      },
      "execution_count": null,
      "outputs": []
    },
    {
      "cell_type": "code",
      "source": [
        "master_df_json_19.to_csv('master_df_json_19.csv')\n",
        "!cp master_df_json_19.csv \"drive/Shareddrives/capstone_prayap_nithyara/\""
      ],
      "metadata": {
        "id": "M9kj8WW5cXr4"
      },
      "execution_count": null,
      "outputs": []
    },
    {
      "cell_type": "code",
      "source": [
        "with ZipFile(copied_path+\"json_files.zip\", 'r') as zipObject:\n",
        "\n",
        "  listOfFileNames = zipObject.namelist()\n",
        "  master_df_json_20 = pd.DataFrame(columns=['File ID', 'File Contents'])\n",
        "  for fileName in listOfFileNames[950001:1000000]:\n",
        "    with zipObject.open(fileName) as f:\n",
        "      contents = f.read()\n",
        "      d = json.loads(contents.decode(\"utf-8\"))\n",
        "\n",
        "\n",
        "    json_file = fileName.split(\"/\")\n",
        "    json_file = json_file[1]\n",
        "    columns = [json_file, d]\n",
        "    try:\n",
        "      master_df_json_20.loc[len(master_df_json_20), :] = columns\n",
        "      master_df_json_20.append(columns)\n",
        "    except:\n",
        "      continue\n",
        "\n",
        "\n",
        "\n",
        "master_df_json_20"
      ],
      "metadata": {
        "id": "jMhQ59VjehpV"
      },
      "execution_count": null,
      "outputs": []
    },
    {
      "cell_type": "code",
      "source": [
        "master_df_json_20.to_csv('master_df_json_20.csv')\n",
        "!cp master_df_json_20.csv \"drive/Shareddrives/capstone_prayap_nithyara/\""
      ],
      "metadata": {
        "id": "9EIMFK68kAMa"
      },
      "execution_count": null,
      "outputs": []
    },
    {
      "cell_type": "code",
      "source": [
        "with ZipFile(copied_path+\"json_files.zip\", 'r') as zipObject:\n",
        "\n",
        "  listOfFileNames = zipObject.namelist()\n",
        "  master_df_json_21 = pd.DataFrame(columns=['File ID', 'File Contents'])\n",
        "  for fileName in [listOfFileNames[50000],listOfFileNames[100000],listOfFileNames[150000],listOfFileNames[200000],listOfFileNames[250000],listOfFileNames[300000],listOfFileNames[350000],listOfFileNames[400000],listOfFileNames[450000],listOfFileNames[500000],listOfFileNames[550000],listOfFileNames[600000],listOfFileNames[650000],listOfFileNames[700000],listOfFileNames[750000],listOfFileNames[800000],listOfFileNames[850000],listOfFileNames[900000],listOfFileNames[950000],listOfFileNames[1000000]]:\n",
        "    with zipObject.open(fileName) as f:\n",
        "      contents = f.read()\n",
        "      d = json.loads(contents.decode(\"utf-8\"))\n",
        "\n",
        "\n",
        "    json_file = fileName.split(\"/\")\n",
        "    json_file = json_file[1]\n",
        "    columns = [json_file, d]\n",
        "    try:\n",
        "      master_df_json_21.loc[len(master_df_json_21), :] = columns\n",
        "      master_df_json_21.append(columns)\n",
        "    except:\n",
        "      continue\n",
        "\n",
        "\n",
        "\n",
        "master_df_json_21"
      ],
      "metadata": {
        "id": "HXEQHtjfkFW0"
      },
      "execution_count": null,
      "outputs": []
    },
    {
      "cell_type": "code",
      "source": [
        "master_df_json_21.to_csv('master_df_json_21.csv')\n",
        "!cp master_df_json_21.csv \"drive/Shareddrives/capstone_prayap_nithyara/\""
      ],
      "metadata": {
        "id": "FGkx7hvOkhiF"
      },
      "execution_count": null,
      "outputs": []
    },
    {
      "cell_type": "markdown",
      "source": [
        "### Import JSON Batch CSVs and Combine into 6 CSVs"
      ],
      "metadata": {
        "id": "2x2Myvxt82rt"
      }
    },
    {
      "cell_type": "code",
      "source": [
        "json_file_names_1 = list(np.arange(1,6))\n",
        "json_1 = pd.concat([pd.read_csv(\"drive/Shareddrives/capstone_prayap_nithyara/\" + \"master_df_json_\" + str(file) + \".csv\") for file in json_file_names_1])\n",
        "\n",
        "json_1.to_csv('json_1.csv')\n",
        "!cp json_1.csv \"drive/Shareddrives/capstone_prayap_nithyara/\"\n"
      ],
      "metadata": {
        "id": "wWh5ZR3X863a"
      },
      "execution_count": null,
      "outputs": []
    },
    {
      "cell_type": "code",
      "source": [
        "json_file_names_2 = list(np.arange(6,11))\n",
        "json_2 = pd.concat([pd.read_csv(\"drive/Shareddrives/capstone_prayap_nithyara/\" + \"master_df_json_\" + str(file) + \".csv\") for file in json_file_names_2])\n",
        "\n",
        "json_2.to_csv('json_2.csv')\n",
        "!cp json_2.csv \"drive/Shareddrives/capstone_prayap_nithyara/\"\n"
      ],
      "metadata": {
        "id": "sqZ1SjYSFfYC"
      },
      "execution_count": null,
      "outputs": []
    },
    {
      "cell_type": "code",
      "source": [
        "json_file_names_3 = list(np.arange(11,16))\n",
        "json_3 = pd.concat([pd.read_csv(\"drive/Shareddrives/capstone_prayap_nithyara/\" + \"master_df_json_\" + str(file) + \".csv\") for file in json_file_names_3])\n",
        "\n",
        "json_3.to_csv('json_3.csv')\n",
        "!cp json_3.csv \"drive/Shareddrives/capstone_prayap_nithyara/\"\n"
      ],
      "metadata": {
        "id": "u9OQe0EuGYOF"
      },
      "execution_count": null,
      "outputs": []
    },
    {
      "cell_type": "code",
      "source": [
        "json_file_names_4 = list(np.arange(16,22))\n",
        "json_4 = pd.concat([pd.read_csv(\"drive/Shareddrives/capstone_prayap_nithyara/\" + \"master_df_json_\" + str(file) + \".csv\") for file in json_file_names_4])\n",
        "\n",
        "json_4.to_csv('json_4.csv')\n",
        "!cp json_4.csv \"drive/Shareddrives/capstone_prayap_nithyara/\"\n"
      ],
      "metadata": {
        "id": "NEyev3jPJG5P"
      },
      "execution_count": null,
      "outputs": []
    },
    {
      "cell_type": "code",
      "source": [
        "json_file_names_5 = list(np.arange(101,106))\n",
        "json_5 = pd.concat([pd.read_csv(\"drive/Shareddrives/capstone_prayap_nithyara/\" + \"master_df_json_\" + str(file) + \".csv\") for file in json_file_names_5])\n",
        "\n",
        "json_5.to_csv('json_5.csv')\n",
        "!cp json_5.csv \"drive/Shareddrives/capstone_prayap_nithyara/\"\n"
      ],
      "metadata": {
        "id": "Ju27EczRKCwF"
      },
      "execution_count": null,
      "outputs": []
    },
    {
      "cell_type": "code",
      "source": [
        "json_file_names_6 = list(np.arange(106,114))\n",
        "json_6 = pd.concat([pd.read_csv(\"drive/Shareddrives/capstone_prayap_nithyara/\" + \"master_df_json_\" + str(file) + \".csv\") for file in json_file_names_6])\n",
        "\n",
        "json_6.to_csv('json_6.csv')\n",
        "!cp json_6.csv \"drive/Shareddrives/capstone_prayap_nithyara/\"\n"
      ],
      "metadata": {
        "id": "yHVSi5whK_Bo"
      },
      "execution_count": null,
      "outputs": []
    },
    {
      "cell_type": "markdown",
      "source": [
        "### Join 6 JSON CSVs with Posts CSV "
      ],
      "metadata": {
        "id": "ZRR1d2xfMmsB"
      }
    },
    {
      "cell_type": "code",
      "source": [
        "json_1 = pd.read_csv(\"drive/Shareddrives/capstone_prayap_nithyara/\" + \"json_\" + str(1) + \".csv\")\n",
        "\n",
        "joined_post_json_1 = pd.merge(posts, \n",
        "                  json_1,\n",
        "                  left_on='JSON File',\n",
        "                  right_on='File ID',\n",
        "                  how='inner')\n",
        "\n",
        "\n",
        "joined_post_json_1\n",
        "joined_post_json_1 = joined_post_json_1.drop([\"Unnamed: 0\", \"Unnamed: 0.1\"], axis=1)\n",
        "\n",
        "joined_post_json_1.to_csv('joined_post_json_1.csv')\n",
        "!cp joined_post_json_1.csv \"drive/Shareddrives/capstone_prayap_nithyara/\""
      ],
      "metadata": {
        "id": "3WkLZRracuj8"
      },
      "execution_count": null,
      "outputs": []
    },
    {
      "cell_type": "code",
      "source": [
        "json_2 = pd.read_csv(\"drive/Shareddrives/capstone_prayap_nithyara/\" + \"json_\" + str(2) + \".csv\")\n",
        "\n",
        "joined_post_json_2 = pd.merge(posts, \n",
        "                  json_2,\n",
        "                  left_on='JSON File',\n",
        "                  right_on='File ID',\n",
        "                  how='inner')\n",
        "\n",
        "\n",
        "joined_post_json_2\n",
        "joined_post_json_2 = joined_post_json_2.drop([\"Unnamed: 0\", \"Unnamed: 0.1\"], axis=1)\n",
        "\n",
        "joined_post_json_2.to_csv('joined_post_json_2.csv')\n",
        "!cp joined_post_json_2.csv \"drive/Shareddrives/capstone_prayap_nithyara/\""
      ],
      "metadata": {
        "id": "hDYV7akPgMoj"
      },
      "execution_count": null,
      "outputs": []
    },
    {
      "cell_type": "code",
      "source": [
        "json_3 = pd.read_csv(\"drive/Shareddrives/capstone_prayap_nithyara/\" + \"json_\" + str(3) + \".csv\")\n",
        "\n",
        "joined_post_json_3 = pd.merge(posts, \n",
        "                  json_3,\n",
        "                  left_on='JSON File',\n",
        "                  right_on='File ID',\n",
        "                  how='inner')\n",
        "\n",
        "\n",
        "joined_post_json_3\n",
        "joined_post_json_3 = joined_post_json_3.drop([\"Unnamed: 0\", \"Unnamed: 0.1\"], axis=1)\n",
        "\n",
        "joined_post_json_3.to_csv('joined_post_json_3.csv')\n",
        "!cp joined_post_json_3.csv \"drive/Shareddrives/capstone_prayap_nithyara/\""
      ],
      "metadata": {
        "id": "T4zOBAlZigBU"
      },
      "execution_count": null,
      "outputs": []
    },
    {
      "cell_type": "code",
      "source": [
        "json_4 = pd.read_csv(\"drive/Shareddrives/capstone_prayap_nithyara/\" + \"json_\" + str(4) + \".csv\")\n",
        "\n",
        "joined_post_json_4 = pd.merge(posts, \n",
        "                  json_4,\n",
        "                  left_on='JSON File',\n",
        "                  right_on='File ID',\n",
        "                  how='inner')\n",
        "\n",
        "\n",
        "joined_post_json_4\n",
        "joined_post_json_4 = joined_post_json_4.drop([\"Unnamed: 0\", \"Unnamed: 0.1\"], axis=1)\n",
        "\n",
        "joined_post_json_4.to_csv('joined_post_json_4.csv')\n",
        "!cp joined_post_json_4.csv \"drive/Shareddrives/capstone_prayap_nithyara/\""
      ],
      "metadata": {
        "id": "wseGNxegjfr0"
      },
      "execution_count": null,
      "outputs": []
    },
    {
      "cell_type": "code",
      "source": [
        "json_5 = pd.read_csv(\"drive/Shareddrives/capstone_prayap_nithyara/\" + \"json_\" + str(5) + \".csv\")\n",
        "\n",
        "joined_post_json_5 = pd.merge(posts, \n",
        "                  json_5,\n",
        "                  left_on='JSON File',\n",
        "                  right_on='File ID',\n",
        "                  how='inner')\n",
        "\n",
        "\n",
        "joined_post_json_5\n",
        "joined_post_json_5 = joined_post_json_5.drop([\"Unnamed: 0\", \"Unnamed: 0.1\"], axis=1)\n",
        "\n",
        "joined_post_json_5.to_csv('joined_post_json_5.csv')\n",
        "!cp joined_post_json_5.csv \"drive/Shareddrives/capstone_prayap_nithyara/\""
      ],
      "metadata": {
        "id": "jqiBilsnkkYA"
      },
      "execution_count": null,
      "outputs": []
    },
    {
      "cell_type": "code",
      "source": [
        "json_6 = pd.read_csv(\"drive/Shareddrives/capstone_prayap_nithyara/\" + \"json_\" + str(6) + \".csv\")\n",
        "\n",
        "joined_post_json_6 = pd.merge(posts, \n",
        "                  json_6,\n",
        "                  left_on='JSON File',\n",
        "                  right_on='File ID',\n",
        "                  how='inner')\n",
        "\n",
        "\n",
        "joined_post_json_6\n",
        "joined_post_json_6 = joined_post_json_6.drop([\"Unnamed: 0\", \"Unnamed: 0.1\"], axis=1)\n",
        "\n",
        "joined_post_json_6.to_csv('joined_post_json_6.csv')\n",
        "!cp joined_post_json_6.csv \"drive/Shareddrives/capstone_prayap_nithyara/\""
      ],
      "metadata": {
        "id": "pE5eV93blQD5"
      },
      "execution_count": null,
      "outputs": []
    },
    {
      "cell_type": "code",
      "source": [
        "post_json_names = list(np.arange(1,7))\n",
        "post_json_combined = pd.concat([pd.read_csv(\"drive/Shareddrives/capstone_prayap_nithyara/\" + \"joined_post_json_\" + str(file) + \".csv\") for file in post_json_names])\n",
        "\n",
        "post_json_combined.to_csv('post_json_combined.csv')\n",
        "!cp post_json_combined.csv \"drive/Shareddrives/capstone_prayap_nithyara/\""
      ],
      "metadata": {
        "id": "CTUR3-HClpR_"
      },
      "execution_count": null,
      "outputs": []
    }
  ]
}