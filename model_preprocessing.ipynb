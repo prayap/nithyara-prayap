{
  "cells": [
    {
      "cell_type": "markdown",
      "metadata": {
        "id": "7qxAHO5zSXR3"
      },
      "source": [
        "# Install libraries:"
      ]
    },
    {
      "cell_type": "code",
      "execution_count": null,
      "metadata": {
        "colab": {
          "base_uri": "https://localhost:8080/"
        },
        "id": "yLKSbfcxuNXO",
        "outputId": "c34ec636-f490-45ca-c309-308dd0df7e11"
      },
      "outputs": [
        {
          "output_type": "stream",
          "name": "stdout",
          "text": [
            "Drive already mounted at /content/drive; to attempt to forcibly remount, call drive.mount(\"/content/drive\", force_remount=True).\n"
          ]
        }
      ],
      "source": [
        "#importing libraries\n",
        "from google.colab import drive\n",
        "drive.mount('/content/drive')\n",
        "import pandas as pd\n",
        "import numpy as np\n",
        "from zipfile import ZipFile\n",
        "import json\n",
        "# -*- coding: utf-8 -*-"
      ]
    },
    {
      "cell_type": "code",
      "execution_count": null,
      "metadata": {
        "colab": {
          "base_uri": "https://localhost:8080/"
        },
        "id": "r3RqUyLXuNXn",
        "outputId": "32189fb0-4c49-417d-bb60-b862f8d4a2d2"
      },
      "outputs": [
        {
          "output_type": "execute_result",
          "data": {
            "text/plain": [
              "['the original dessert hummus',\n",
              " 'liketoknowit',\n",
              " 'jofama  fashion',\n",
              " 'opullence paris',\n",
              " 'hellobody italia',\n",
              " 'keep nature wild',\n",
              " 'littlewoods',\n",
              " 'mary kay de mxico oficial',\n",
              " 'the may fair',\n",
              " 'evogue']"
            ]
          },
          "metadata": {},
          "execution_count": 11
        }
      ],
      "source": [
        "#importing processed brand names through NLP\n",
        "brandsprocessed3 = pd.read_csv('drive/Shareddrives/capstone_prayap_nithyara/brandslistfinal_data.csv')\n",
        "brandsprocessed=list(brandsprocessed3['0'])"
      ]
    },
    {
      "cell_type": "markdown",
      "source": [
        "#Model data preprocessing"
      ],
      "metadata": {
        "id": "uqJzTMEfzjbM"
      }
    },
    {
      "cell_type": "markdown",
      "source": [
        "##READ DATA"
      ],
      "metadata": {
        "id": "-tOzvI8-sSHJ"
      }
    },
    {
      "cell_type": "code",
      "source": [
        "#read influencer data\n",
        "df=pd.read_csv('/content/drive/Shareddrives/capstone_prayap_nithyara/sponsored_brand_mentions_by_influencer_merge.csv')"
      ],
      "metadata": {
        "id": "iY5tLuIpzmXB"
      },
      "execution_count": null,
      "outputs": []
    },
    {
      "cell_type": "code",
      "source": [
        "#read captions data\n",
        "df1=pd.read_csv('/content/drive/Shareddrives/capstone_prayap_nithyara/post_captions_combined.csv')"
      ],
      "metadata": {
        "colab": {
          "base_uri": "https://localhost:8080/"
        },
        "id": "xV49PG3r0oLk",
        "outputId": "877690fd-c04a-4782-fbd8-49ac56f225ce"
      },
      "execution_count": null,
      "outputs": [
        {
          "output_type": "stream",
          "name": "stderr",
          "text": [
            "/usr/local/lib/python3.7/dist-packages/IPython/core/interactiveshell.py:2882: DtypeWarning: Columns (0,1,3) have mixed types.Specify dtype option on import or set low_memory=False.\n",
            "  exec(code_obj, self.user_global_ns, self.user_ns)\n"
          ]
        }
      ]
    },
    {
      "cell_type": "markdown",
      "source": [
        "#Preprocessing"
      ],
      "metadata": {
        "id": "PxJssvmP5cuk"
      }
    },
    {
      "cell_type": "markdown",
      "source": [
        "\n",
        "**Preprocessing model data.**"
      ],
      "metadata": {
        "id": "1k54nfun5oUs"
      }
    },
    {
      "cell_type": "markdown",
      "source": [
        "##DONT RUN ONLY FOR DATA"
      ],
      "metadata": {
        "id": "vCaqZ2oEr5Et"
      }
    },
    {
      "cell_type": "code",
      "source": [
        "#Linear Regression Model \n",
        "#The problem can be formulated as a regression task, with the goal of estimating popularity \n",
        "#as the ratio between expected likes and comments over number of media and number of months\n",
        "#Input requires the following\n",
        "#1. af=account followers from df\n",
        "#2. pl=likes of all posts by the account\n",
        "#3. npos=Number of Posts from df\n",
        "#4. nsbmp=Number of Sponsored Posts from df\n",
        "#5. nc=total number of comments by account\n",
        "#6. ne=total emojis from df4\n",
        "#7. nh=total hashtags from df5\n",
        "#8. nbmp= total brand mentioning posts\n",
        "#9. acl=average caption length\n",
        "#10.nm=number of media\n",
        "#11. url = has url or not 0 or 1\n",
        "\n",
        "#Follower growth fgr= (af1-af0)/duration in months  can we get this from the dataset we have\n",
        "#popularity growth pgr= (pl+nc)/(nm*duration in months)\n"
      ],
      "metadata": {
        "id": "jkgK8GDB5g3n"
      },
      "execution_count": null,
      "outputs": []
    },
    {
      "cell_type": "code",
      "source": [
        "combineddf=pd.read_csv(\"/content/drive/Shareddrives/capstone_prayap_nithyara/influencers_posts_sentiment_emoji_hashtag.csv\")"
      ],
      "metadata": {
        "id": "8miIQcAF5cDX"
      },
      "execution_count": null,
      "outputs": []
    },
    {
      "cell_type": "code",
      "source": [
        "df3=combineddf.groupby('Account ID_x')['Caption Length'].agg('mean')"
      ],
      "metadata": {
        "id": "4c6TKJBdFBnQ"
      },
      "execution_count": null,
      "outputs": []
    },
    {
      "cell_type": "code",
      "source": [
        "df3=pd.DataFrame(df3)"
      ],
      "metadata": {
        "id": "8NCR6L5-NdY2"
      },
      "execution_count": null,
      "outputs": []
    },
    {
      "cell_type": "code",
      "source": [
        "df3.columns"
      ],
      "metadata": {
        "colab": {
          "base_uri": "https://localhost:8080/"
        },
        "id": "PhAZf63FNrXH",
        "outputId": "88b54130-1644-4920-abeb-ff25c3735b98"
      },
      "execution_count": null,
      "outputs": [
        {
          "output_type": "execute_result",
          "data": {
            "text/plain": [
              "Index(['Caption Length'], dtype='object')"
            ]
          },
          "metadata": {},
          "execution_count": 57
        }
      ]
    },
    {
      "cell_type": "code",
      "source": [
        "from collections import Counter\n"
      ],
      "metadata": {
        "id": "NDQ32EZ1JEvd"
      },
      "execution_count": null,
      "outputs": []
    },
    {
      "cell_type": "code",
      "source": [
        "!pip install emoji --upgrade"
      ],
      "metadata": {
        "colab": {
          "base_uri": "https://localhost:8080/"
        },
        "id": "NQKMFhqeMJSJ",
        "outputId": "46de38d0-48ff-4ba3-9d41-27296b333ae7"
      },
      "execution_count": null,
      "outputs": [
        {
          "output_type": "stream",
          "name": "stdout",
          "text": [
            "Collecting emoji\n",
            "  Downloading emoji-1.7.0.tar.gz (175 kB)\n",
            "\u001b[?25l\r\u001b[K     |█▉                              | 10 kB 17.7 MB/s eta 0:00:01\r\u001b[K     |███▊                            | 20 kB 19.9 MB/s eta 0:00:01\r\u001b[K     |█████▋                          | 30 kB 23.4 MB/s eta 0:00:01\r\u001b[K     |███████▌                        | 40 kB 26.4 MB/s eta 0:00:01\r\u001b[K     |█████████▍                      | 51 kB 18.3 MB/s eta 0:00:01\r\u001b[K     |███████████▏                    | 61 kB 20.3 MB/s eta 0:00:01\r\u001b[K     |█████████████                   | 71 kB 21.3 MB/s eta 0:00:01\r\u001b[K     |███████████████                 | 81 kB 19.7 MB/s eta 0:00:01\r\u001b[K     |████████████████▉               | 92 kB 21.3 MB/s eta 0:00:01\r\u001b[K     |██████████████████▊             | 102 kB 22.6 MB/s eta 0:00:01\r\u001b[K     |████████████████████▌           | 112 kB 22.6 MB/s eta 0:00:01\r\u001b[K     |██████████████████████▍         | 122 kB 22.6 MB/s eta 0:00:01\r\u001b[K     |████████████████████████▎       | 133 kB 22.6 MB/s eta 0:00:01\r\u001b[K     |██████████████████████████▏     | 143 kB 22.6 MB/s eta 0:00:01\r\u001b[K     |████████████████████████████    | 153 kB 22.6 MB/s eta 0:00:01\r\u001b[K     |█████████████████████████████▉  | 163 kB 22.6 MB/s eta 0:00:01\r\u001b[K     |███████████████████████████████▊| 174 kB 22.6 MB/s eta 0:00:01\r\u001b[K     |████████████████████████████████| 175 kB 22.6 MB/s \n",
            "\u001b[?25hBuilding wheels for collected packages: emoji\n",
            "  Building wheel for emoji (setup.py) ... \u001b[?25l\u001b[?25hdone\n",
            "  Created wheel for emoji: filename=emoji-1.7.0-py3-none-any.whl size=171046 sha256=4b2313e0f5c73b307eb2ae28703216c2e0db4446a384b1847f41155b37d981f6\n",
            "  Stored in directory: /root/.cache/pip/wheels/8a/4e/b6/57b01db010d17ef6ea9b40300af725ef3e210cb1acfb7ac8b6\n",
            "Successfully built emoji\n",
            "Installing collected packages: emoji\n",
            "Successfully installed emoji-1.7.0\n"
          ]
        }
      ]
    },
    {
      "cell_type": "code",
      "source": [
        "import emoji"
      ],
      "metadata": {
        "id": "j5caulkKMRdh"
      },
      "execution_count": null,
      "outputs": []
    },
    {
      "cell_type": "code",
      "source": [
        "from typing import Dict\n",
        "combineddf['total_emoji']=combineddf['emoji'].apply(lambda x: len(''.join(c for c in x if c in emoji.UNICODE_EMOJI['en'])))"
      ],
      "metadata": {
        "id": "IHSP28N0G6MZ"
      },
      "execution_count": null,
      "outputs": []
    },
    {
      "cell_type": "code",
      "source": [
        "df4=combineddf.groupby('Account ID_x')[['total_hashtags','total_emoji']].agg('sum')"
      ],
      "metadata": {
        "id": "v01esxgsGky8"
      },
      "execution_count": null,
      "outputs": []
    },
    {
      "cell_type": "code",
      "source": [
        "df4['Caption Length']=df3['Caption Length']"
      ],
      "metadata": {
        "id": "ZbUYmoc0NMKg"
      },
      "execution_count": null,
      "outputs": []
    },
    {
      "cell_type": "code",
      "source": [
        "df4.reset_index(inplace=True)"
      ],
      "metadata": {
        "id": "jOaNJ1o3OY4M"
      },
      "execution_count": null,
      "outputs": []
    },
    {
      "cell_type": "code",
      "source": [
        "df4=df4.rename(columns={'Account ID_x':'Account ID'})"
      ],
      "metadata": {
        "id": "Q7AeHohBONfn"
      },
      "execution_count": null,
      "outputs": []
    },
    {
      "cell_type": "code",
      "source": [
        "df5=pd.merge(df,df4,on='Account ID')"
      ],
      "metadata": {
        "id": "HtL0TYbFN2TU"
      },
      "execution_count": null,
      "outputs": []
    },
    {
      "cell_type": "code",
      "source": [
        "df6=df5[['Account ID','Name','Followers','Posts','Category','Brand Mentioning Posts','Sponsored Brand Mentioning Posts','total_hashtags','total_emoji','Caption Length']]"
      ],
      "metadata": {
        "id": "7phgdEIBOoTq"
      },
      "execution_count": null,
      "outputs": []
    },
    {
      "cell_type": "code",
      "source": [
        "df7=pd.read_csv(\"/content/drive/Shareddrives/capstone_prayap_nithyara/models/all_like_comments.csv\")"
      ],
      "metadata": {
        "id": "B5uLNcnlmogy"
      },
      "execution_count": null,
      "outputs": []
    },
    {
      "cell_type": "code",
      "source": [
        "df8=df7.groupby('Account ID')[['Like','Comments']].agg('sum')"
      ],
      "metadata": {
        "id": "gu8Z2RlvXg5N"
      },
      "execution_count": null,
      "outputs": []
    },
    {
      "cell_type": "code",
      "source": [
        "df9=pd.merge(df6,df8,on='Account ID')"
      ],
      "metadata": {
        "id": "XmxbILTfnSIi"
      },
      "execution_count": null,
      "outputs": []
    },
    {
      "cell_type": "code",
      "source": [
        "df9.to_csv( \"account_model.csv\", index=False, encoding='utf-8-sig')\n",
        "!cp account_model.csv \"/content/drive/Shareddrives/capstone_prayap_nithyara/models\""
      ],
      "metadata": {
        "id": "a4Bh2rMfPSfH"
      },
      "execution_count": null,
      "outputs": []
    },
    {
      "cell_type": "code",
      "source": [
        "modeldf=pd.read_csv('/content/drive/Shareddrives/capstone_prayap_nithyara/models/account_model.csv')"
      ],
      "metadata": {
        "id": "mIwxUs3dPgIF"
      },
      "execution_count": null,
      "outputs": []
    },
    {
      "cell_type": "code",
      "source": [
        "textdf=pd.read_csv('/content/drive/Shareddrives/capstone_prayap_nithyara/influencers_posts_sentiment_emoji_hashtag_cleantext.csv')"
      ],
      "metadata": {
        "id": "QQ_eaIcpKqi0"
      },
      "execution_count": null,
      "outputs": []
    },
    {
      "cell_type": "code",
      "source": [
        "merge=pd.read_csv('/content/drive/Shareddrives/capstone_prayap_nithyara/models/influencer_brand_category.csv')"
      ],
      "metadata": {
        "id": "YuoY6gHdLPdD"
      },
      "execution_count": null,
      "outputs": []
    },
    {
      "cell_type": "code",
      "source": [
        "merge1=merge.groupby('Brand')['Influencer'].apply(list).reset_index()"
      ],
      "metadata": {
        "id": "nMqIV-k9LhKW"
      },
      "execution_count": null,
      "outputs": []
    },
    {
      "cell_type": "code",
      "source": [
        "merge1['tot_inf']=merge1['Influencer'].apply(lambda x: len(x))"
      ],
      "metadata": {
        "id": "LsyF5yEJMlqY"
      },
      "execution_count": null,
      "outputs": []
    },
    {
      "cell_type": "code",
      "source": [
        "merge1.sort_values(by='tot_inf',ascending=False,inplace=True)"
      ],
      "metadata": {
        "id": "WzfJgiMVR6or"
      },
      "execution_count": null,
      "outputs": []
    },
    {
      "cell_type": "code",
      "source": [
        "merge2=merge1"
      ],
      "metadata": {
        "id": "juAAbTuJSFwa"
      },
      "execution_count": null,
      "outputs": []
    },
    {
      "cell_type": "code",
      "source": [
        "modeldf=pd.read_csv('/content/drive/Shareddrives/capstone_prayap_nithyara/models/model_input.csv')"
      ],
      "metadata": {
        "id": "QVs2zh0r924b"
      },
      "execution_count": null,
      "outputs": []
    },
    {
      "cell_type": "code",
      "source": [
        "merge2.reset_index(inplace=True)"
      ],
      "metadata": {
        "id": "bzEZxmDeXuNi"
      },
      "execution_count": null,
      "outputs": []
    },
    {
      "cell_type": "code",
      "source": [
        "merge2['Influencer'][0]"
      ],
      "metadata": {
        "id": "MfU1gViclqh6"
      },
      "execution_count": null,
      "outputs": []
    },
    {
      "cell_type": "code",
      "source": [
        "merge2['pgr']=0\n",
        "k=0\n",
        "for i in merge2['Influencer']:\n",
        "  total=0\n",
        "  for j in i:\n",
        "    try:\n",
        "      total=total+int(modeldf[modeldf['Account ID']==j]['pgr'])\n",
        "    except:\n",
        "      total=total\n",
        "  pgr=total\n",
        "  merge2['pgr'].iloc[k]=pgr\n",
        "  k=k+1"
      ],
      "metadata": {
        "colab": {
          "base_uri": "https://localhost:8080/"
        },
        "id": "d8RqgC17TdT4",
        "outputId": "86d36e11-ca61-436a-ae30-781a779e5217"
      },
      "execution_count": null,
      "outputs": [
        {
          "output_type": "stream",
          "name": "stderr",
          "text": [
            "/usr/local/lib/python3.7/dist-packages/pandas/core/indexing.py:1732: SettingWithCopyWarning: \n",
            "A value is trying to be set on a copy of a slice from a DataFrame\n",
            "\n",
            "See the caveats in the documentation: https://pandas.pydata.org/pandas-docs/stable/user_guide/indexing.html#returning-a-view-versus-a-copy\n",
            "  self._setitem_single_block(indexer, value, name)\n"
          ]
        }
      ]
    },
    {
      "cell_type": "code",
      "source": [
        "merge4=pd.read_csv('/content/drive/Shareddrives/capstone_prayap_nithyara/models/brand_mention_merge.csv')"
      ],
      "metadata": {
        "id": "YFS-mHyAsLWv"
      },
      "execution_count": null,
      "outputs": []
    },
    {
      "cell_type": "code",
      "source": [
        "merge4.rename(columns={'Account ID':\"Brand\"},inplace=True)"
      ],
      "metadata": {
        "id": "-j80f2VNtPT0"
      },
      "execution_count": null,
      "outputs": []
    },
    {
      "cell_type": "code",
      "source": [
        "merge7=merge4[['Brand','Followers','Followees','Posts','count']]"
      ],
      "metadata": {
        "id": "gXysL8qvt3Op"
      },
      "execution_count": null,
      "outputs": []
    },
    {
      "cell_type": "code",
      "source": [
        "merge7.dropna(inplace=True)"
      ],
      "metadata": {
        "colab": {
          "base_uri": "https://localhost:8080/"
        },
        "id": "uVSxBWzGsyFL",
        "outputId": "b629199d-9f02-4b99-c9c6-8cbbf262bc51"
      },
      "execution_count": null,
      "outputs": [
        {
          "output_type": "stream",
          "name": "stderr",
          "text": [
            "/usr/local/lib/python3.7/dist-packages/pandas/util/_decorators.py:311: SettingWithCopyWarning: \n",
            "A value is trying to be set on a copy of a slice from a DataFrame\n",
            "\n",
            "See the caveats in the documentation: https://pandas.pydata.org/pandas-docs/stable/user_guide/indexing.html#returning-a-view-versus-a-copy\n",
            "  return func(*args, **kwargs)\n"
          ]
        }
      ]
    },
    {
      "cell_type": "code",
      "source": [
        "merge5=pd.merge(merge7,merge2, on= \"Brand\")"
      ],
      "metadata": {
        "id": "SF5zn-YqmRjz"
      },
      "execution_count": null,
      "outputs": []
    },
    {
      "cell_type": "code",
      "source": [
        "merge5.dropna(inplace=True)"
      ],
      "metadata": {
        "id": "mEdh1QsZpazs"
      },
      "execution_count": null,
      "outputs": []
    },
    {
      "cell_type": "code",
      "source": [
        "merge5.rename(columns={'count':'bc'},inplace=True)\n",
        "#merge5.drop(columns='index',inplace=True)"
      ],
      "metadata": {
        "id": "YkGFvzcduwZd"
      },
      "execution_count": null,
      "outputs": []
    },
    {
      "cell_type": "code",
      "source": [
        "merge5.to_csv( \"brandmodel_input.csv\", index=False, encoding='utf-8-sig')\n",
        "!cp brandmodel_input.csv \"/content/drive/Shareddrives/capstone_prayap_nithyara/models\""
      ],
      "metadata": {
        "id": "mx5FEFyPDjn4"
      },
      "execution_count": null,
      "outputs": []
    },
    {
      "cell_type": "code",
      "source": [
        "import matplotlib.pyplot as plt\n",
        "plt.hist(merge5['tot_inf'],bins=500)"
      ],
      "metadata": {
        "colab": {
          "base_uri": "https://localhost:8080/",
          "height": 994
        },
        "id": "cVylu3lrRFa1",
        "outputId": "110f38ae-6d46-4f89-d902-29b2d9fd3933"
      },
      "execution_count": null,
      "outputs": [
        {
          "output_type": "execute_result",
          "data": {
            "text/plain": [
              "(array([1.7015e+04, 2.8400e+02, 5.7000e+01, 2.3000e+01, 1.5000e+01,\n",
              "        7.0000e+00, 6.0000e+00, 5.0000e+00, 3.0000e+00, 1.0000e+00,\n",
              "        1.0000e+00, 1.0000e+00, 2.0000e+00, 1.0000e+00, 1.0000e+00,\n",
              "        0.0000e+00, 0.0000e+00, 1.0000e+00, 0.0000e+00, 0.0000e+00,\n",
              "        0.0000e+00, 0.0000e+00, 0.0000e+00, 0.0000e+00, 0.0000e+00,\n",
              "        0.0000e+00, 0.0000e+00, 0.0000e+00, 0.0000e+00, 1.0000e+00,\n",
              "        0.0000e+00, 0.0000e+00, 0.0000e+00, 0.0000e+00, 0.0000e+00,\n",
              "        0.0000e+00, 0.0000e+00, 0.0000e+00, 0.0000e+00, 0.0000e+00,\n",
              "        0.0000e+00, 0.0000e+00, 0.0000e+00, 0.0000e+00, 0.0000e+00,\n",
              "        0.0000e+00, 0.0000e+00, 0.0000e+00, 0.0000e+00, 0.0000e+00,\n",
              "        0.0000e+00, 0.0000e+00, 0.0000e+00, 1.0000e+00, 0.0000e+00,\n",
              "        0.0000e+00, 0.0000e+00, 0.0000e+00, 0.0000e+00, 0.0000e+00,\n",
              "        0.0000e+00, 0.0000e+00, 0.0000e+00, 0.0000e+00, 0.0000e+00,\n",
              "        0.0000e+00, 0.0000e+00, 0.0000e+00, 0.0000e+00, 0.0000e+00,\n",
              "        0.0000e+00, 0.0000e+00, 0.0000e+00, 0.0000e+00, 0.0000e+00,\n",
              "        0.0000e+00, 0.0000e+00, 0.0000e+00, 0.0000e+00, 0.0000e+00,\n",
              "        0.0000e+00, 0.0000e+00, 0.0000e+00, 0.0000e+00, 0.0000e+00,\n",
              "        0.0000e+00, 0.0000e+00, 0.0000e+00, 0.0000e+00, 0.0000e+00,\n",
              "        0.0000e+00, 0.0000e+00, 0.0000e+00, 0.0000e+00, 0.0000e+00,\n",
              "        0.0000e+00, 0.0000e+00, 0.0000e+00, 0.0000e+00, 1.0000e+00]),\n",
              " array([1.00000e+00, 7.22300e+01, 1.43460e+02, 2.14690e+02, 2.85920e+02,\n",
              "        3.57150e+02, 4.28380e+02, 4.99610e+02, 5.70840e+02, 6.42070e+02,\n",
              "        7.13300e+02, 7.84530e+02, 8.55760e+02, 9.26990e+02, 9.98220e+02,\n",
              "        1.06945e+03, 1.14068e+03, 1.21191e+03, 1.28314e+03, 1.35437e+03,\n",
              "        1.42560e+03, 1.49683e+03, 1.56806e+03, 1.63929e+03, 1.71052e+03,\n",
              "        1.78175e+03, 1.85298e+03, 1.92421e+03, 1.99544e+03, 2.06667e+03,\n",
              "        2.13790e+03, 2.20913e+03, 2.28036e+03, 2.35159e+03, 2.42282e+03,\n",
              "        2.49405e+03, 2.56528e+03, 2.63651e+03, 2.70774e+03, 2.77897e+03,\n",
              "        2.85020e+03, 2.92143e+03, 2.99266e+03, 3.06389e+03, 3.13512e+03,\n",
              "        3.20635e+03, 3.27758e+03, 3.34881e+03, 3.42004e+03, 3.49127e+03,\n",
              "        3.56250e+03, 3.63373e+03, 3.70496e+03, 3.77619e+03, 3.84742e+03,\n",
              "        3.91865e+03, 3.98988e+03, 4.06111e+03, 4.13234e+03, 4.20357e+03,\n",
              "        4.27480e+03, 4.34603e+03, 4.41726e+03, 4.48849e+03, 4.55972e+03,\n",
              "        4.63095e+03, 4.70218e+03, 4.77341e+03, 4.84464e+03, 4.91587e+03,\n",
              "        4.98710e+03, 5.05833e+03, 5.12956e+03, 5.20079e+03, 5.27202e+03,\n",
              "        5.34325e+03, 5.41448e+03, 5.48571e+03, 5.55694e+03, 5.62817e+03,\n",
              "        5.69940e+03, 5.77063e+03, 5.84186e+03, 5.91309e+03, 5.98432e+03,\n",
              "        6.05555e+03, 6.12678e+03, 6.19801e+03, 6.26924e+03, 6.34047e+03,\n",
              "        6.41170e+03, 6.48293e+03, 6.55416e+03, 6.62539e+03, 6.69662e+03,\n",
              "        6.76785e+03, 6.83908e+03, 6.91031e+03, 6.98154e+03, 7.05277e+03,\n",
              "        7.12400e+03]),\n",
              " <a list of 100 Patch objects>)"
            ]
          },
          "metadata": {},
          "execution_count": 142
        },
        {
          "output_type": "display_data",
          "data": {
            "text/plain": [
              "<Figure size 432x288 with 1 Axes>"
            ],
            "image/png": "[encoded data removed]"
          },
          "metadata": {
            "needs_background": "light"
          }
        }
      ]
    },
    {
      "cell_type": "code",
      "source": [
        "modeldf=modeldf.fillna(0)"
      ],
      "metadata": {
        "id": "Vx2eoUFwckUi"
      },
      "execution_count": null,
      "outputs": []
    },
    {
      "cell_type": "code",
      "source": [
        "#1. af=account followers from df\n",
        "#2. pl=likes of all posts by the account\n",
        "#3. npos=Number of Posts from df\n",
        "#4. nsbmp=Number of Sponsored Posts from df\n",
        "#5. nc=total number of comments by account\n",
        "#6. ne=total emojis from df4\n",
        "#7. nh=total hashtags from df5\n",
        "#8. nbmp= total brand mentioning posts\n",
        "#9. acl=average caption length\n",
        "#10.nm=number of media\n",
        "#11. url = has url or not 0 or 1\n",
        "\n",
        "#Follower growth fgr= (af1-af0)/duration in months  can we get this from the dataset we have\n",
        "#popularity pgr= (pl+nc)/(nm*duration in months)\n",
        "modeldf=modeldf.rename(columns={'Followers':'af','Posts':'npos','Brand Mentioning Posts':'nbmp','Sponsored Brand Mentioning Posts':'nspos','total_emoji':'ne','total_hashtags':'nh','Caption Length':'acl','Like':'pl','Comments':'nc'})"
      ],
      "metadata": {
        "id": "sDX_vWJPQDNR"
      },
      "execution_count": null,
      "outputs": []
    },
    {
      "cell_type": "code",
      "source": [
        "model2df=pd.read_csv('/content/drive/Shareddrives/capstone_prayap_nithyara/models/all_media_url.csv')"
      ],
      "metadata": {
        "id": "gXjtHxkGYFae"
      },
      "execution_count": null,
      "outputs": []
    },
    {
      "cell_type": "code",
      "source": [
        "model2df['url']=model2df['url'].apply(lambda x: 1 if x>0 else 0)"
      ],
      "metadata": {
        "id": "iilUwD5KFu3N"
      },
      "execution_count": null,
      "outputs": []
    },
    {
      "cell_type": "code",
      "source": [
        "model2df1=model2df.groupby('Account ID')[['media','url']].agg('sum')"
      ],
      "metadata": {
        "id": "h01hQ2VEYzP3"
      },
      "execution_count": null,
      "outputs": []
    },
    {
      "cell_type": "code",
      "source": [
        "model2df1=model2df1.fillna(0)"
      ],
      "metadata": {
        "id": "kz32H6UHEMxk"
      },
      "execution_count": null,
      "outputs": []
    },
    {
      "cell_type": "code",
      "source": [
        "model2df1['nm']=model2df1['media'].apply(lambda x: 1 if x==0 else x)"
      ],
      "metadata": {
        "id": "e48x469VBajw"
      },
      "execution_count": null,
      "outputs": []
    },
    {
      "cell_type": "code",
      "source": [
        "modeldf1=pd.merge(modeldf,model2df1,on='Account ID')"
      ],
      "metadata": {
        "id": "49vQcjOsCU7n"
      },
      "execution_count": null,
      "outputs": []
    },
    {
      "cell_type": "code",
      "source": [
        "modeldf=pd.read_csv('/content/drive/Shareddrives/capstone_prayap_nithyara/models/model_input.csv')"
      ],
      "metadata": {
        "id": "P1r05rvwC42K"
      },
      "execution_count": null,
      "outputs": []
    },
    {
      "cell_type": "code",
      "source": [
        "modeldf['nm']=modeldf1['nm']\n",
        "modeldf['url']=modeldf1['url']"
      ],
      "metadata": {
        "id": "_-4jKvrhDZ8v"
      },
      "execution_count": null,
      "outputs": []
    },
    {
      "cell_type": "code",
      "source": [
        "modeldf['pgr']=(modeldf['pl']+modeldf['nc'])/(modeldf['nm']*3)"
      ],
      "metadata": {
        "id": "X7Ubbb_ZoEjg"
      },
      "execution_count": null,
      "outputs": []
    },
    {
      "cell_type": "code",
      "source": [
        "#EXPORTING INFLUENCER DATASET TO THE FOLDER BEFORE RUNNING MODELS\n",
        "modeldf.to_csv( \"model_input.csv\", index=False, encoding='utf-8-sig')\n",
        "!cp model_input.csv \"/content/drive/Shareddrives/capstone_prayap_nithyara/models\""
      ],
      "metadata": {
        "id": "9iQIdsBWra06"
      },
      "execution_count": null,
      "outputs": []
    }
  ],
  "metadata": {
    "colab": {
      "collapsed_sections": [
        "7qxAHO5zSXR3"
      ],
      "name": "model_preprocessingupload.ipynb",
      "provenance": []
    },
    "kernelspec": {
      "display_name": "Python 3",
      "name": "python3"
    },
    "language_info": {
      "name": "python"
    }
  },
  "nbformat": 4,
  "nbformat_minor": 0
}