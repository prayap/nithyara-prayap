{
  "cells": [
    {
      "cell_type": "markdown",
      "metadata": {
        "id": "7qxAHO5zSXR3"
      },
      "source": [
        "# Install libraries:"
      ]
    },
    {
      "cell_type": "code",
      "execution_count": null,
      "metadata": {
        "id": "3X6kpFsq-iKv"
      },
      "outputs": [],
      "source": [
        "#install library\n",
        "%%capture\n",
        "\n",
        "!pip3 install --upgrade git+https://github.com/twintproject/twint.git@origin/master#egg=twint\n",
        "!pip3 install --upgrade aiohttp_socks\n",
        "\n",
        "# nest_asyncio \n",
        "!pip install nest_asyncio"
      ]
    },
    {
      "cell_type": "code",
      "execution_count": null,
      "metadata": {
        "colab": {
          "base_uri": "https://localhost:8080/"
        },
        "id": "yLKSbfcxuNXO",
        "outputId": "518d2c57-2ff5-4abe-f6d7-7df0dc9ff9c3"
      },
      "outputs": [
        {
          "output_type": "stream",
          "name": "stdout",
          "text": [
            "Mounted at /content/drive\n"
          ]
        }
      ],
      "source": [
        "#import libraries\n",
        "from google.colab import drive\n",
        "drive.mount('/content/drive')\n",
        "import pandas as pd\n",
        "import numpy as np\n",
        "from zipfile import ZipFile\n",
        "import json"
      ]
    },
    {
      "cell_type": "code",
      "execution_count": null,
      "metadata": {
        "colab": {
          "base_uri": "https://localhost:8080/"
        },
        "id": "r3RqUyLXuNXn",
        "outputId": "32c07787-34bf-4cd6-fb20-5c9611893759"
      },
      "outputs": [
        {
          "output_type": "execute_result",
          "data": {
            "text/plain": [
              "['the original dessert hummus',\n",
              " 'liketoknowit',\n",
              " 'jofama  fashion',\n",
              " 'opullence paris',\n",
              " 'hellobody italia',\n",
              " 'keep nature wild',\n",
              " 'littlewoods',\n",
              " 'mary kay de mxico oficial',\n",
              " 'the may fair',\n",
              " 'evogue']"
            ]
          },
          "metadata": {},
          "execution_count": 4
        }
      ],
      "source": [
        "#add brandprocessed data\n",
        "brandsprocessed3 = pd.read_csv('drive/Shareddrives/capstone_prayap_nithyara/brandslistfinal_data.csv')\n",
        "brandsprocessed=list(brandsprocessed3['0'])\n",
        "brandsprocessed[:10]"
      ]
    },
    {
      "cell_type": "markdown",
      "metadata": {
        "id": "PXyljOknsPEy"
      },
      "source": [
        "# Collecting data:"
      ]
    },
    {
      "cell_type": "code",
      "execution_count": null,
      "metadata": {
        "id": "Wb9zWcum-oCY"
      },
      "outputs": [],
      "source": [
        "#import libraries\n",
        "import twint\n",
        "import nest_asyncio\n",
        "import pandas as pd\n",
        "nest_asyncio.apply()\n",
        "from datetime import date, timedelta"
      ]
    },
    {
      "cell_type": "markdown",
      "metadata": {
        "id": "Vq7X_92BSv11"
      },
      "source": [
        "### Fetch Tweets functions:"
      ]
    },
    {
      "cell_type": "code",
      "execution_count": null,
      "metadata": {
        "id": "Q85KMgOa-xZH"
      },
      "outputs": [],
      "source": [
        "#create a function to fetch tweets\n",
        "def fetchtweets(sinceDate, untilDate,brands):\t\n",
        "  since = str(sinceDate)\n",
        "  until = str(untilDate)\n",
        "  df1=pd.DataFrame()\n",
        "  i=0\n",
        "  for brand in brands:\n",
        "    i=i+1\n",
        "    try:\n",
        "      c = twint.Config()\n",
        "      c.Retries_count = 10\n",
        "      c.Search = brand\n",
        "      c.Pandas = True\n",
        "      c.Since = since\n",
        "      c.Until = until\n",
        "      c.User_full = True # also fetching full user profile data.\n",
        "      c.Lowercase = True\n",
        "      c.User_full = True\n",
        "      c.Filter_retweets = True\n",
        "      c.Lang = \"en\"\n",
        "      c.Hide_output = True\n",
        "      print(\"* Fetching tweets created for \" + since + str(brand))\n",
        "      print(i)\n",
        "      twint.run.Search(c)\n",
        "      #interest_df11.to_csv('interest5_data.csv')\n",
        "      df = twint.storage.panda.Tweets_df\n",
        "      df['brand']=brand\n",
        "      df1=df1.append(df)\n",
        "      print(len(df))\n",
        "      print(len(df1))\n",
        "    except:\n",
        "      df=pd.DataFrame()\n",
        "      print(\"brand_where_it_failed\"+ str(brand))\n",
        "      print(i)\n",
        "      return(df1)\n",
        "      exit(\"failed\")\n",
        "  return(df1)\n"
      ]
    },
    {
      "cell_type": "code",
      "execution_count": null,
      "metadata": {
        "id": "A-MF1FZzNKNp"
      },
      "outputs": [],
      "source": [
        "# Fetching tweets between dates\n",
        "def tweetsbetweendates(beginDate, endDate,brand):\n",
        "  if (type(beginDate) is not date) | (type(endDate) is not date):\n",
        "    return print(\"Error: Please supply `beginDate` and `endDate` in `datetime.date` format.\")\n",
        "  else:\n",
        "    df=fetchtweets(beginDate, endDate,brand)\n",
        "    df.to_csv('brandstweets_data1.csv')\n",
        "    !cp brandstweets_data1.csv \"drive/Shareddrives/capstone_prayap_nithyara/twitter2/\""
      ]
    },
    {
      "cell_type": "markdown",
      "metadata": {
        "id": "EDFdL9QxSzSr"
      },
      "source": [
        "## Fetch data:"
      ]
    },
    {
      "cell_type": "code",
      "execution_count": null,
      "metadata": {
        "colab": {
          "base_uri": "https://localhost:8080/"
        },
        "id": "_3MVn1kmVLWk",
        "outputId": "e3623e71-42cf-448e-d7dd-15adcc68fe51"
      },
      "outputs": [
        {
          "output_type": "stream",
          "name": "stdout",
          "text": [
            "* Fetching tweets created for 2018-07-01blue bell\n",
            "1\n",
            "brand_where_it_failedblue bell\n",
            "1\n"
          ]
        }
      ],
      "source": [
        "#need to input begin date and end date and enter the number of brands to be processed. \n",
        "#Only works with 1000 brands at a time and had to wait for 15 minutes or so in between.\n",
        "#also ran for preand post periods\n",
        "beginDate = date(2018, 7, 1)\n",
        "endDate = date(2018, 9, 30)\n",
        "tweetsbetweendates(beginDate, endDate,brandsprocessed[1000:2000])"
      ]
    },
    {
      "cell_type": "markdown",
      "metadata": {
        "id": "3PRLNVTMx31l"
      },
      "source": [
        "**TWITTER DATA**"
      ]
    },
    {
      "cell_type": "markdown",
      "metadata": {
        "id": "pk_gjWnjRsqo"
      },
      "source": [
        "# Combine data in Google Drive project folder:\n",
        "\n",
        "> Indented block\n",
        "\n"
      ]
    },
    {
      "cell_type": "code",
      "execution_count": null,
      "metadata": {
        "colab": {
          "base_uri": "https://localhost:8080/"
        },
        "id": "_fnrq04XDWj7",
        "outputId": "45550529-d661-44ed-f09f-4612fc0604b2"
      },
      "outputs": [
        {
          "name": "stdout",
          "output_type": "stream",
          "text": [
            "Files in '/content/drive/Shareddrives/capstone_prayap_nithyara/twitter': ['brandstweets_data4.csv', 'brandstweets_data5.csv', 'brandstweets_data6.csv', 'brandstweets_data7.csv', 'brandstweets_data8.csv', 'brandstweets_data9.csv', 'brandstweets_data11.csv', 'brandstweets_data10.csv', 'brandstweets_data15.csv', 'brandstweets_data12.csv', 'brandstweets_data16.csv', 'brandstweets_data13.csv', 'brandstweets_data17.csv', 'brandstweets_data25.csv', 'brandstweets_data18.csv', 'brandstweets_data26.csv', 'brandstweets_data19.csv', 'brandstweets_data27.csv', 'brandstweets_data20.csv', 'brandstweets_data28.csv', 'brandstweets_data21.csv', 'brandstweets_data29.csv', 'brandstweets_data22.csv', 'brandstweets_data30.csv', 'brandstweets_data31.csv', 'brandstweets_data33.csv', 'brandstweets_data32.csv', 'brandstweets_data35.csv', 'brandstweets_data34.csv', 'brandstweets_data36.csv', 'unused data']\n"
          ]
        }
      ],
      "source": [
        "#import os\n",
        "import os\n",
        "cwd = os.getcwd()  # Get the current working directory (cwd)\n",
        "files = os.listdir(cwd)  # Get all the files in that directory\n",
        "print(\"Files in %r: %s\" % (cwd, files))"
      ]
    },
    {
      "cell_type": "code",
      "execution_count": null,
      "metadata": {
        "colab": {
          "base_uri": "https://localhost:8080/"
        },
        "id": "fCFNG-GPUis_",
        "outputId": "1241bb73-dc2a-4449-8b1e-f76cd407d06a"
      },
      "outputs": [
        {
          "name": "stdout",
          "output_type": "stream",
          "text": [
            "cp: 'alltweets.csv' and '/content/drive/Shareddrives/capstone_prayap_nithyara/twitter/alltweets.csv' are the same file\n"
          ]
        }
      ],
      "source": [
        "#import libraries\n",
        "import os\n",
        "import glob\n",
        "import pandas as pd\n",
        "copied_path2 = \"/content/drive/Shareddrives/capstone_prayap_nithyara/twitter2\"\n",
        "os.chdir(copied_path2)\n",
        "extension = 'csv'\n",
        "all_filenames = [i for i in glob.glob('*.{}'.format(extension))]\n",
        "\n",
        "#combine all files in the list\n",
        "combined_csv = pd.concat([pd.read_csv(f,lineterminator='\\n') for f in all_filenames ])\n",
        "#export to csv\n",
        "combined_csv.to_csv( \"alltweets2.csv\", index=False, encoding='utf-8-sig')\n",
        "!cp alltweets2.csv \"/content/drive/Shareddrives/capstone_prayap_nithyara/twitter2\""
      ]
    },
    {
      "cell_type": "code",
      "execution_count": null,
      "metadata": {
        "id": "nrF1J_jUD9fR"
      },
      "outputs": [],
      "source": [
        "#read data\n",
        "df3=pd.read_csv(\"/content/drive/Shareddrives/capstone_prayap_nithyara/twitter/alltweets.csv\")\n"
      ]
    },
    {
      "cell_type": "code",
      "execution_count": null,
      "metadata": {
        "colab": {
          "base_uri": "https://localhost:8080/",
          "height": 206
        },
        "id": "fPaKyeLQEP6m",
        "outputId": "8ae625f6-e4c5-4f82-d692-daab89ecd33d"
      },
      "outputs": [
        {
          "data": {
            "text/html": [
              "\n",
              "  <div id=\"df-49da70a9-14f0-4717-9d0e-f1141a0fc5e6\">\n",
              "    <div class=\"colab-df-container\">\n",
              "      <div>\n",
              "<style scoped>\n",
              "    .dataframe tbody tr th:only-of-type {\n",
              "        vertical-align: middle;\n",
              "    }\n",
              "\n",
              "    .dataframe tbody tr th {\n",
              "        vertical-align: top;\n",
              "    }\n",
              "\n",
              "    .dataframe thead th {\n",
              "        text-align: right;\n",
              "    }\n",
              "</style>\n",
              "<table border=\"1\" class=\"dataframe\">\n",
              "  <thead>\n",
              "    <tr style=\"text-align: right;\">\n",
              "      <th></th>\n",
              "      <th>brand</th>\n",
              "      <th>0</th>\n",
              "    </tr>\n",
              "  </thead>\n",
              "  <tbody>\n",
              "    <tr>\n",
              "      <th>0</th>\n",
              "      <td>arctic power berries</td>\n",
              "      <td>8</td>\n",
              "    </tr>\n",
              "    <tr>\n",
              "      <th>1</th>\n",
              "      <td>axaaa</td>\n",
              "      <td>40</td>\n",
              "    </tr>\n",
              "    <tr>\n",
              "      <th>2</th>\n",
              "      <td>a</td>\n",
              "      <td>160</td>\n",
              "    </tr>\n",
              "    <tr>\n",
              "      <th>3</th>\n",
              "      <td>a  a</td>\n",
              "      <td>160</td>\n",
              "    </tr>\n",
              "    <tr>\n",
              "      <th>4</th>\n",
              "      <td>a  igrab cafe</td>\n",
              "      <td>2</td>\n",
              "    </tr>\n",
              "  </tbody>\n",
              "</table>\n",
              "</div>\n",
              "      <button class=\"colab-df-convert\" onclick=\"convertToInteractive('df-49da70a9-14f0-4717-9d0e-f1141a0fc5e6')\"\n",
              "              title=\"Convert this dataframe to an interactive table.\"\n",
              "              style=\"display:none;\">\n",
              "        \n",
              "  <svg xmlns=\"http://www.w3.org/2000/svg\" height=\"24px\"viewBox=\"0 0 24 24\"\n",
              "       width=\"24px\">\n",
              "    <path d=\"M0 0h24v24H0V0z\" fill=\"none\"/>\n",
              "    <path d=\"M18.56 5.44l.94 2.06.94-2.06 2.06-.94-2.06-.94-.94-2.06-.94 2.06-2.06.94zm-11 1L8.5 8.5l.94-2.06 2.06-.94-2.06-.94L8.5 2.5l-.94 2.06-2.06.94zm10 10l.94 2.06.94-2.06 2.06-.94-2.06-.94-.94-2.06-.94 2.06-2.06.94z\"/><path d=\"M17.41 7.96l-1.37-1.37c-.4-.4-.92-.59-1.43-.59-.52 0-1.04.2-1.43.59L10.3 9.45l-7.72 7.72c-.78.78-.78 2.05 0 2.83L4 21.41c.39.39.9.59 1.41.59.51 0 1.02-.2 1.41-.59l7.78-7.78 2.81-2.81c.8-.78.8-2.07 0-2.86zM5.41 20L4 18.59l7.72-7.72 1.47 1.35L5.41 20z\"/>\n",
              "  </svg>\n",
              "      </button>\n",
              "      \n",
              "  <style>\n",
              "    .colab-df-container {\n",
              "      display:flex;\n",
              "      flex-wrap:wrap;\n",
              "      gap: 12px;\n",
              "    }\n",
              "\n",
              "    .colab-df-convert {\n",
              "      background-color: #E8F0FE;\n",
              "      border: none;\n",
              "      border-radius: 50%;\n",
              "      cursor: pointer;\n",
              "      display: none;\n",
              "      fill: #1967D2;\n",
              "      height: 32px;\n",
              "      padding: 0 0 0 0;\n",
              "      width: 32px;\n",
              "    }\n",
              "\n",
              "    .colab-df-convert:hover {\n",
              "      background-color: #E2EBFA;\n",
              "      box-shadow: 0px 1px 2px rgba(60, 64, 67, 0.3), 0px 1px 3px 1px rgba(60, 64, 67, 0.15);\n",
              "      fill: #174EA6;\n",
              "    }\n",
              "\n",
              "    [theme=dark] .colab-df-convert {\n",
              "      background-color: #3B4455;\n",
              "      fill: #D2E3FC;\n",
              "    }\n",
              "\n",
              "    [theme=dark] .colab-df-convert:hover {\n",
              "      background-color: #434B5C;\n",
              "      box-shadow: 0px 1px 3px 1px rgba(0, 0, 0, 0.15);\n",
              "      filter: drop-shadow(0px 1px 2px rgba(0, 0, 0, 0.3));\n",
              "      fill: #FFFFFF;\n",
              "    }\n",
              "  </style>\n",
              "\n",
              "      <script>\n",
              "        const buttonEl =\n",
              "          document.querySelector('#df-49da70a9-14f0-4717-9d0e-f1141a0fc5e6 button.colab-df-convert');\n",
              "        buttonEl.style.display =\n",
              "          google.colab.kernel.accessAllowed ? 'block' : 'none';\n",
              "\n",
              "        async function convertToInteractive(key) {\n",
              "          const element = document.querySelector('#df-49da70a9-14f0-4717-9d0e-f1141a0fc5e6');\n",
              "          const dataTable =\n",
              "            await google.colab.kernel.invokeFunction('convertToInteractive',\n",
              "                                                     [key], {});\n",
              "          if (!dataTable) return;\n",
              "\n",
              "          const docLinkHtml = 'Like what you see? Visit the ' +\n",
              "            '<a target=\"_blank\" href=https://colab.research.google.com/notebooks/data_table.ipynb>data table notebook</a>'\n",
              "            + ' to learn more about interactive tables.';\n",
              "          element.innerHTML = '';\n",
              "          dataTable['output_type'] = 'display_data';\n",
              "          await google.colab.output.renderOutput(dataTable, element);\n",
              "          const docLink = document.createElement('div');\n",
              "          docLink.innerHTML = docLinkHtml;\n",
              "          element.appendChild(docLink);\n",
              "        }\n",
              "      </script>\n",
              "    </div>\n",
              "  </div>\n",
              "  "
            ],
            "text/plain": [
              "                      brand    0\n",
              "0      arctic power berries    8\n",
              "1                     axaaa   40\n",
              "2                         a  160\n",
              "3                      a  a  160\n",
              "4             a  igrab cafe    2"
            ]
          },
          "execution_count": 7,
          "metadata": {},
          "output_type": "execute_result"
        }
      ],
      "source": [
        "#using groupby to get total number of tweets\n",
        "df4=df3.groupby(['brand']).size().reset_index()\n",
        "df4.head()"
      ]
    },
    {
      "cell_type": "code",
      "execution_count": null,
      "metadata": {
        "id": "BtTccMXJFfKQ"
      },
      "outputs": [],
      "source": [
        "#rename column\n",
        "df4.rename(columns={0:'total'},inplace=True)\n"
      ]
    },
    {
      "cell_type": "code",
      "execution_count": null,
      "metadata": {
        "colab": {
          "base_uri": "https://localhost:8080/",
          "height": 206
        },
        "id": "IQ-B3WNmHQds",
        "outputId": "4da45877-5abb-476f-fe3f-1100f5e79476"
      },
      "outputs": [
        {
          "data": {
            "text/html": [
              "\n",
              "  <div id=\"df-d64a9a0d-1d07-446b-bde6-d4ab71c5288c\">\n",
              "    <div class=\"colab-df-container\">\n",
              "      <div>\n",
              "<style scoped>\n",
              "    .dataframe tbody tr th:only-of-type {\n",
              "        vertical-align: middle;\n",
              "    }\n",
              "\n",
              "    .dataframe tbody tr th {\n",
              "        vertical-align: top;\n",
              "    }\n",
              "\n",
              "    .dataframe thead th {\n",
              "        text-align: right;\n",
              "    }\n",
              "</style>\n",
              "<table border=\"1\" class=\"dataframe\">\n",
              "  <thead>\n",
              "    <tr style=\"text-align: right;\">\n",
              "      <th></th>\n",
              "      <th>brand</th>\n",
              "      <th>total</th>\n",
              "    </tr>\n",
              "  </thead>\n",
              "  <tbody>\n",
              "    <tr>\n",
              "      <th>88</th>\n",
              "      <td>a r c h</td>\n",
              "      <td>432</td>\n",
              "    </tr>\n",
              "    <tr>\n",
              "      <th>105</th>\n",
              "      <td>abc7ny</td>\n",
              "      <td>240</td>\n",
              "    </tr>\n",
              "    <tr>\n",
              "      <th>139</th>\n",
              "      <td>acquario di genova</td>\n",
              "      <td>320</td>\n",
              "    </tr>\n",
              "    <tr>\n",
              "      <th>402</th>\n",
              "      <td>amour rose</td>\n",
              "      <td>394</td>\n",
              "    </tr>\n",
              "    <tr>\n",
              "      <th>409</th>\n",
              "      <td>amys kitchen</td>\n",
              "      <td>240</td>\n",
              "    </tr>\n",
              "  </tbody>\n",
              "</table>\n",
              "</div>\n",
              "      <button class=\"colab-df-convert\" onclick=\"convertToInteractive('df-d64a9a0d-1d07-446b-bde6-d4ab71c5288c')\"\n",
              "              title=\"Convert this dataframe to an interactive table.\"\n",
              "              style=\"display:none;\">\n",
              "        \n",
              "  <svg xmlns=\"http://www.w3.org/2000/svg\" height=\"24px\"viewBox=\"0 0 24 24\"\n",
              "       width=\"24px\">\n",
              "    <path d=\"M0 0h24v24H0V0z\" fill=\"none\"/>\n",
              "    <path d=\"M18.56 5.44l.94 2.06.94-2.06 2.06-.94-2.06-.94-.94-2.06-.94 2.06-2.06.94zm-11 1L8.5 8.5l.94-2.06 2.06-.94-2.06-.94L8.5 2.5l-.94 2.06-2.06.94zm10 10l.94 2.06.94-2.06 2.06-.94-2.06-.94-.94-2.06-.94 2.06-2.06.94z\"/><path d=\"M17.41 7.96l-1.37-1.37c-.4-.4-.92-.59-1.43-.59-.52 0-1.04.2-1.43.59L10.3 9.45l-7.72 7.72c-.78.78-.78 2.05 0 2.83L4 21.41c.39.39.9.59 1.41.59.51 0 1.02-.2 1.41-.59l7.78-7.78 2.81-2.81c.8-.78.8-2.07 0-2.86zM5.41 20L4 18.59l7.72-7.72 1.47 1.35L5.41 20z\"/>\n",
              "  </svg>\n",
              "      </button>\n",
              "      \n",
              "  <style>\n",
              "    .colab-df-container {\n",
              "      display:flex;\n",
              "      flex-wrap:wrap;\n",
              "      gap: 12px;\n",
              "    }\n",
              "\n",
              "    .colab-df-convert {\n",
              "      background-color: #E8F0FE;\n",
              "      border: none;\n",
              "      border-radius: 50%;\n",
              "      cursor: pointer;\n",
              "      display: none;\n",
              "      fill: #1967D2;\n",
              "      height: 32px;\n",
              "      padding: 0 0 0 0;\n",
              "      width: 32px;\n",
              "    }\n",
              "\n",
              "    .colab-df-convert:hover {\n",
              "      background-color: #E2EBFA;\n",
              "      box-shadow: 0px 1px 2px rgba(60, 64, 67, 0.3), 0px 1px 3px 1px rgba(60, 64, 67, 0.15);\n",
              "      fill: #174EA6;\n",
              "    }\n",
              "\n",
              "    [theme=dark] .colab-df-convert {\n",
              "      background-color: #3B4455;\n",
              "      fill: #D2E3FC;\n",
              "    }\n",
              "\n",
              "    [theme=dark] .colab-df-convert:hover {\n",
              "      background-color: #434B5C;\n",
              "      box-shadow: 0px 1px 3px 1px rgba(0, 0, 0, 0.15);\n",
              "      filter: drop-shadow(0px 1px 2px rgba(0, 0, 0, 0.3));\n",
              "      fill: #FFFFFF;\n",
              "    }\n",
              "  </style>\n",
              "\n",
              "      <script>\n",
              "        const buttonEl =\n",
              "          document.querySelector('#df-d64a9a0d-1d07-446b-bde6-d4ab71c5288c button.colab-df-convert');\n",
              "        buttonEl.style.display =\n",
              "          google.colab.kernel.accessAllowed ? 'block' : 'none';\n",
              "\n",
              "        async function convertToInteractive(key) {\n",
              "          const element = document.querySelector('#df-d64a9a0d-1d07-446b-bde6-d4ab71c5288c');\n",
              "          const dataTable =\n",
              "            await google.colab.kernel.invokeFunction('convertToInteractive',\n",
              "                                                     [key], {});\n",
              "          if (!dataTable) return;\n",
              "\n",
              "          const docLinkHtml = 'Like what you see? Visit the ' +\n",
              "            '<a target=\"_blank\" href=https://colab.research.google.com/notebooks/data_table.ipynb>data table notebook</a>'\n",
              "            + ' to learn more about interactive tables.';\n",
              "          element.innerHTML = '';\n",
              "          dataTable['output_type'] = 'display_data';\n",
              "          await google.colab.output.renderOutput(dataTable, element);\n",
              "          const docLink = document.createElement('div');\n",
              "          docLink.innerHTML = docLinkHtml;\n",
              "          element.appendChild(docLink);\n",
              "        }\n",
              "      </script>\n",
              "    </div>\n",
              "  </div>\n",
              "  "
            ],
            "text/plain": [
              "                  brand  total\n",
              "88              a r c h    432\n",
              "105              abc7ny    240\n",
              "139  acquario di genova    320\n",
              "402          amour rose    394\n",
              "409        amys kitchen    240"
            ]
          },
          "execution_count": 9,
          "metadata": {},
          "output_type": "execute_result"
        }
      ],
      "source": [
        "#looking for brands with tweets greater than 200\n",
        "df5=df4[df4['total']>200]\n",
        "df5.head()"
      ]
    },
    {
      "cell_type": "code",
      "execution_count": null,
      "metadata": {
        "colab": {
          "base_uri": "https://localhost:8080/",
          "height": 363
        },
        "id": "jcuMu5LaJ3D_",
        "outputId": "78f312f3-4532-40ea-98d4-978d856a8019"
      },
      "outputs": [
        {
          "data": {
            "text/html": [
              "\n",
              "  <div id=\"df-9131d18d-9ae2-49e7-a19b-34a670db2375\">\n",
              "    <div class=\"colab-df-container\">\n",
              "      <div>\n",
              "<style scoped>\n",
              "    .dataframe tbody tr th:only-of-type {\n",
              "        vertical-align: middle;\n",
              "    }\n",
              "\n",
              "    .dataframe tbody tr th {\n",
              "        vertical-align: top;\n",
              "    }\n",
              "\n",
              "    .dataframe thead th {\n",
              "        text-align: right;\n",
              "    }\n",
              "</style>\n",
              "<table border=\"1\" class=\"dataframe\">\n",
              "  <thead>\n",
              "    <tr style=\"text-align: right;\">\n",
              "      <th></th>\n",
              "      <th>brand</th>\n",
              "      <th>total</th>\n",
              "    </tr>\n",
              "  </thead>\n",
              "  <tbody>\n",
              "    <tr>\n",
              "      <th>9737</th>\n",
              "      <td>zach king</td>\n",
              "      <td>502</td>\n",
              "    </tr>\n",
              "    <tr>\n",
              "      <th>9718</th>\n",
              "      <td>your tea</td>\n",
              "      <td>480</td>\n",
              "    </tr>\n",
              "    <tr>\n",
              "      <th>9611</th>\n",
              "      <td>wonderful places</td>\n",
              "      <td>480</td>\n",
              "    </tr>\n",
              "    <tr>\n",
              "      <th>4634</th>\n",
              "      <td>kildare village</td>\n",
              "      <td>480</td>\n",
              "    </tr>\n",
              "    <tr>\n",
              "      <th>6449</th>\n",
              "      <td>onehope wine</td>\n",
              "      <td>480</td>\n",
              "    </tr>\n",
              "    <tr>\n",
              "      <th>8210</th>\n",
              "      <td>stetson</td>\n",
              "      <td>480</td>\n",
              "    </tr>\n",
              "    <tr>\n",
              "      <th>4267</th>\n",
              "      <td>jed north apparel</td>\n",
              "      <td>464</td>\n",
              "    </tr>\n",
              "    <tr>\n",
              "      <th>6669</th>\n",
              "      <td>partake foods</td>\n",
              "      <td>440</td>\n",
              "    </tr>\n",
              "    <tr>\n",
              "      <th>88</th>\n",
              "      <td>a r c h</td>\n",
              "      <td>432</td>\n",
              "    </tr>\n",
              "    <tr>\n",
              "      <th>3772</th>\n",
              "      <td>hey honey</td>\n",
              "      <td>400</td>\n",
              "    </tr>\n",
              "  </tbody>\n",
              "</table>\n",
              "</div>\n",
              "      <button class=\"colab-df-convert\" onclick=\"convertToInteractive('df-9131d18d-9ae2-49e7-a19b-34a670db2375')\"\n",
              "              title=\"Convert this dataframe to an interactive table.\"\n",
              "              style=\"display:none;\">\n",
              "        \n",
              "  <svg xmlns=\"http://www.w3.org/2000/svg\" height=\"24px\"viewBox=\"0 0 24 24\"\n",
              "       width=\"24px\">\n",
              "    <path d=\"M0 0h24v24H0V0z\" fill=\"none\"/>\n",
              "    <path d=\"M18.56 5.44l.94 2.06.94-2.06 2.06-.94-2.06-.94-.94-2.06-.94 2.06-2.06.94zm-11 1L8.5 8.5l.94-2.06 2.06-.94-2.06-.94L8.5 2.5l-.94 2.06-2.06.94zm10 10l.94 2.06.94-2.06 2.06-.94-2.06-.94-.94-2.06-.94 2.06-2.06.94z\"/><path d=\"M17.41 7.96l-1.37-1.37c-.4-.4-.92-.59-1.43-.59-.52 0-1.04.2-1.43.59L10.3 9.45l-7.72 7.72c-.78.78-.78 2.05 0 2.83L4 21.41c.39.39.9.59 1.41.59.51 0 1.02-.2 1.41-.59l7.78-7.78 2.81-2.81c.8-.78.8-2.07 0-2.86zM5.41 20L4 18.59l7.72-7.72 1.47 1.35L5.41 20z\"/>\n",
              "  </svg>\n",
              "      </button>\n",
              "      \n",
              "  <style>\n",
              "    .colab-df-container {\n",
              "      display:flex;\n",
              "      flex-wrap:wrap;\n",
              "      gap: 12px;\n",
              "    }\n",
              "\n",
              "    .colab-df-convert {\n",
              "      background-color: #E8F0FE;\n",
              "      border: none;\n",
              "      border-radius: 50%;\n",
              "      cursor: pointer;\n",
              "      display: none;\n",
              "      fill: #1967D2;\n",
              "      height: 32px;\n",
              "      padding: 0 0 0 0;\n",
              "      width: 32px;\n",
              "    }\n",
              "\n",
              "    .colab-df-convert:hover {\n",
              "      background-color: #E2EBFA;\n",
              "      box-shadow: 0px 1px 2px rgba(60, 64, 67, 0.3), 0px 1px 3px 1px rgba(60, 64, 67, 0.15);\n",
              "      fill: #174EA6;\n",
              "    }\n",
              "\n",
              "    [theme=dark] .colab-df-convert {\n",
              "      background-color: #3B4455;\n",
              "      fill: #D2E3FC;\n",
              "    }\n",
              "\n",
              "    [theme=dark] .colab-df-convert:hover {\n",
              "      background-color: #434B5C;\n",
              "      box-shadow: 0px 1px 3px 1px rgba(0, 0, 0, 0.15);\n",
              "      filter: drop-shadow(0px 1px 2px rgba(0, 0, 0, 0.3));\n",
              "      fill: #FFFFFF;\n",
              "    }\n",
              "  </style>\n",
              "\n",
              "      <script>\n",
              "        const buttonEl =\n",
              "          document.querySelector('#df-9131d18d-9ae2-49e7-a19b-34a670db2375 button.colab-df-convert');\n",
              "        buttonEl.style.display =\n",
              "          google.colab.kernel.accessAllowed ? 'block' : 'none';\n",
              "\n",
              "        async function convertToInteractive(key) {\n",
              "          const element = document.querySelector('#df-9131d18d-9ae2-49e7-a19b-34a670db2375');\n",
              "          const dataTable =\n",
              "            await google.colab.kernel.invokeFunction('convertToInteractive',\n",
              "                                                     [key], {});\n",
              "          if (!dataTable) return;\n",
              "\n",
              "          const docLinkHtml = 'Like what you see? Visit the ' +\n",
              "            '<a target=\"_blank\" href=https://colab.research.google.com/notebooks/data_table.ipynb>data table notebook</a>'\n",
              "            + ' to learn more about interactive tables.';\n",
              "          element.innerHTML = '';\n",
              "          dataTable['output_type'] = 'display_data';\n",
              "          await google.colab.output.renderOutput(dataTable, element);\n",
              "          const docLink = document.createElement('div');\n",
              "          docLink.innerHTML = docLinkHtml;\n",
              "          element.appendChild(docLink);\n",
              "        }\n",
              "      </script>\n",
              "    </div>\n",
              "  </div>\n",
              "  "
            ],
            "text/plain": [
              "                  brand  total\n",
              "9737          zach king    502\n",
              "9718           your tea    480\n",
              "9611   wonderful places    480\n",
              "4634    kildare village    480\n",
              "6449       onehope wine    480\n",
              "8210            stetson    480\n",
              "4267  jed north apparel    464\n",
              "6669      partake foods    440\n",
              "88              a r c h    432\n",
              "3772          hey honey    400"
            ]
          },
          "execution_count": 11,
          "metadata": {},
          "output_type": "execute_result"
        }
      ],
      "source": [
        "#sorting tweets by brand\n",
        "df6=df5.sort_values('total',ascending=False).head(10)\n",
        "df6"
      ]
    },
    {
      "cell_type": "code",
      "execution_count": null,
      "metadata": {
        "colab": {
          "base_uri": "https://localhost:8080/",
          "height": 265
        },
        "id": "_vUXQYJGE378",
        "outputId": "db3e09c1-baeb-4f9a-e668-bd7ed0416e16"
      },
      "outputs": [
        {
          "data": {
            "image/png": "[encoded data removed]",
            "text/plain": [
              "<Figure size 432x288 with 1 Axes>"
            ]
          },
          "metadata": {},
          "output_type": "display_data"
        }
      ],
      "source": [
        "#plot brand and total tweets for brands with tweets greater than 200\n",
        "import matplotlib.pyplot as plt\n",
        "plt.scatter(x=df6['brand'],y=df6['total'])\n",
        "plt.show()"
      ]
    },
    {
      "cell_type": "code",
      "execution_count": null,
      "metadata": {
        "id": "g4K7kB8pVMSQ"
      },
      "outputs": [],
      "source": [
        "#only getting certian variables\n",
        "df7=df3[['created_at','tweet','hashtags','user_id','user_id_str','username','brand']]"
      ]
    },
    {
      "cell_type": "code",
      "execution_count": null,
      "metadata": {
        "id": "WkF397U2iJpF"
      },
      "outputs": [],
      "source": [
        "#import brand dataset\n",
        "brands = pd.read_csv('drive/Shareddrives/capstone_prayap_nithyara/influencers_sponsored_mentioning_brand_merge.csv')"
      ]
    },
    {
      "cell_type": "code",
      "execution_count": null,
      "metadata": {
        "id": "UiUNfLETE9AM"
      },
      "outputs": [],
      "source": [
        "#import brand data\n",
        "brands1 = pd.read_csv('drive/Shareddrives/capstone_prayap_nithyara/brands_data.csv')"
      ]
    },
    {
      "cell_type": "code",
      "execution_count": null,
      "metadata": {
        "id": "rniOWrqXGXAy"
      },
      "outputs": [],
      "source": [
        "#join using merge\n",
        "brand_join2=combined.merge(df4,how='left', left_on='brand', right_on='brand')"
      ]
    },
    {
      "cell_type": "code",
      "execution_count": null,
      "metadata": {
        "id": "NhykwTJUKBj-"
      },
      "outputs": [],
      "source": [
        "#fill nan with 0\n",
        "brand_join2=brand_join2.fillna(0)"
      ]
    },
    {
      "cell_type": "code",
      "execution_count": null,
      "metadata": {
        "id": "DBkcRJeTK7PS"
      },
      "outputs": [],
      "source": [
        "#extract only brand name and total tweets\n",
        "brand_join2=brand_join2[['Name','total']]"
      ]
    },
    {
      "cell_type": "code",
      "execution_count": null,
      "metadata": {
        "id": "nVpCNFQ_KWS1"
      },
      "outputs": [],
      "source": [
        "#rename column\n",
        "brand_join2.rename(columns={'total':'num_tweets'},inplace=True)"
      ]
    },
    {
      "cell_type": "code",
      "execution_count": null,
      "metadata": {
        "id": "2r92kMv8KMMl"
      },
      "outputs": [],
      "source": [
        "#merge with brands\n",
        "final=brands.merge(brand_join2,how='left', left_on='Name', right_on='Name')"
      ]
    },
    {
      "cell_type": "code",
      "execution_count": null,
      "metadata": {
        "id": "Pl8F1Mp-L3IS"
      },
      "outputs": [],
      "source": [
        "#save file to drive\n",
        "final.to_csv( \"influencers_sponsored_mentioning_brand_merge_alltweets.csv\", index=False, encoding='utf-8-sig')\n",
        "!cp influencers_sponsored_mentioning_brand_merge_alltweets.csv \"/content/drive/Shareddrives/capstone_prayap_nithyara\""
      ]
    }
  ],
  "metadata": {
    "colab": {
      "collapsed_sections": [],
      "name": "Twitterdata2.ipynb",
      "provenance": []
    },
    "kernelspec": {
      "display_name": "Python 3",
      "name": "python3"
    },
    "language_info": {
      "name": "python"
    }
  },
  "nbformat": 4,
  "nbformat_minor": 0
}